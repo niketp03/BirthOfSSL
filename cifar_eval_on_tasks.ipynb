{
 "cells": [
  {
   "cell_type": "code",
   "execution_count": 1,
   "id": "01eaf6b4",
   "metadata": {},
   "outputs": [
    {
     "name": "stdout",
     "output_type": "stream",
     "text": [
      "Files already downloaded and verified\n",
      "Files already downloaded and verified\n"
     ]
    }
   ],
   "source": [
    "import torch\n",
    "from torchvision import transforms\n",
    "\n",
    "import torchvision.datasets as datasets\n",
    "# Using CIFAR-10 dataset\n",
    "from torchvision.datasets import CIFAR10\n",
    "from torchvision import models\n",
    "from torch.utils.data import DataLoader\n",
    "import numpy as np\n",
    "\n",
    "from einops import rearrange\n",
    "\n",
    "import matplotlib.pyplot as plt\n",
    "\n",
    "from tqdm.auto import tqdm, trange\n",
    "\n",
    "# Define the transformations\n",
    "transform = transforms.Compose([\n",
    "    transforms.ToTensor(),\n",
    "    transforms.Normalize((0.5, 0.5, 0.5), (0.5, 0.5, 0.5)),\n",
    "])\n",
    "# Load the CIFAR-10 dataset\n",
    "train_dataset = CIFAR10(root='./data', train=True, download=True, transform=transform)\n",
    "test_dataset = CIFAR10(root='./data', train=False, download=True, transform=transform)\n",
    "\n",
    "# Create data loaders\n",
    "train_loader = DataLoader(train_dataset, batch_size=512, shuffle=True)\n",
    "test_loader = DataLoader(test_dataset, batch_size=512, shuffle=False)"
   ]
  },
  {
   "cell_type": "code",
   "execution_count": 2,
   "id": "d3c3c535",
   "metadata": {},
   "outputs": [
    {
     "name": "stderr",
     "output_type": "stream",
     "text": [
      "/opt/anaconda3/lib/python3.12/site-packages/torchvision/models/_utils.py:208: UserWarning: The parameter 'pretrained' is deprecated since 0.13 and may be removed in the future, please use 'weights' instead.\n",
      "  warnings.warn(\n",
      "/opt/anaconda3/lib/python3.12/site-packages/torchvision/models/_utils.py:223: UserWarning: Arguments other than a weight enum or `None` for 'weights' are deprecated since 0.13 and may be removed in the future. The current behavior is equivalent to passing `weights=ResNet18_Weights.IMAGENET1K_V1`. You can also use `weights=ResNet18_Weights.DEFAULT` to get the most up-to-date weights.\n",
      "  warnings.warn(msg)\n"
     ]
    }
   ],
   "source": [
    "resnet_pretrained = models.resnet18(pretrained=True)\n",
    "resnet_pretrained.fc = torch.nn.Identity()\n",
    "\n",
    "resnet_pretrained_frozen = models.resnet18(pretrained=True)\n",
    "resnet_pretrained_frozen.fc = torch.nn.Identity()\n",
    "\n",
    "#load prior tasks\n",
    "labels_list = np.load('labels_list_new_algo_1.npy')"
   ]
  },
  {
   "cell_type": "code",
   "execution_count": 3,
   "id": "0d5a1b9c",
   "metadata": {},
   "outputs": [
    {
     "data": {
      "application/vnd.jupyter.widget-view+json": {
       "model_id": "d41e7ab64cf44c97bc3bc3f580c41445",
       "version_major": 2,
       "version_minor": 0
      },
      "text/plain": [
       "  0%|          | 0/30 [00:00<?, ?it/s]"
      ]
     },
     "metadata": {},
     "output_type": "display_data"
    },
    {
     "name": "stderr",
     "output_type": "stream",
     "text": [
      "/tmp/ipykernel_8924/662220567.py:41: FutureWarning: `torch.cuda.amp.autocast(args...)` is deprecated. Please use `torch.amp.autocast('cuda', args...)` instead.\n",
      "  with torch.cuda.amp.autocast():        # mixed precision, optional\n"
     ]
    },
    {
     "name": "stdout",
     "output_type": "stream",
     "text": [
      "Epoch 1: loss = 0.7658\n",
      "Epoch 2: loss = 0.7054\n",
      "Epoch 3: loss = 0.6614\n",
      "Epoch 4: loss = 0.6708\n",
      "Epoch 5: loss = 0.6681\n",
      "Epoch 6: loss = 0.6724\n",
      "Epoch 7: loss = 0.6739\n",
      "Epoch 8: loss = 0.6759\n",
      "Epoch 9: loss = 0.6771\n",
      "Epoch 10: loss = 0.6781\n",
      "Epoch 11: loss = 0.6787\n",
      "Epoch 12: loss = 0.6792\n",
      "Epoch 13: loss = 0.6795\n",
      "Epoch 14: loss = 0.6798\n",
      "Epoch 15: loss = 0.6799\n",
      "Epoch 16: loss = 0.6800\n",
      "Epoch 17: loss = 0.6801\n",
      "Epoch 18: loss = 0.6801\n",
      "Epoch 19: loss = 0.6801\n",
      "Epoch 20: loss = 0.6801\n",
      "Epoch 21: loss = 0.6801\n",
      "Epoch 22: loss = 0.6801\n",
      "Epoch 23: loss = 0.6801\n",
      "Epoch 24: loss = 0.6801\n",
      "Epoch 25: loss = 0.6801\n",
      "Epoch 26: loss = 0.6801\n",
      "Epoch 27: loss = 0.6801\n",
      "Epoch 28: loss = 0.6801\n",
      "Epoch 29: loss = 0.6801\n",
      "Epoch 30: loss = 0.6801\n",
      "Mean accuracy over 100 tasks: 65.44%\n"
     ]
    }
   ],
   "source": [
    "# ── 1. Build a “multi-label” view of the data ──────────────────────────────────\n",
    "labels_matrix = np.stack(labels_list)          # (100, N)\n",
    "labels_matrix = torch.from_numpy(labels_matrix).float()  # to tensor\n",
    "\n",
    "class MultiTaskWrapper(torch.utils.data.Dataset):\n",
    "    def __init__(self, base_ds, all_labels):\n",
    "        self.base_ds   = base_ds               # the dataset behind your test_loader\n",
    "        self.all_lbls  = all_labels            # (100, N)\n",
    "    def __len__(self): return len(self.base_ds)\n",
    "    def __getitem__(self, idx):\n",
    "        img, _    = self.base_ds[idx]\n",
    "        lbl_vec   = self.all_lbls[:, idx]      # (100,)\n",
    "        return img, lbl_vec\n",
    "\n",
    "multi_ds     = MultiTaskWrapper(test_loader.dataset, labels_matrix)\n",
    "multi_loader = torch.utils.data.DataLoader(multi_ds,\n",
    "                                           batch_size=test_loader.batch_size,\n",
    "                                           shuffle=False,\n",
    "                                           num_workers=test_loader.num_workers,\n",
    "                                           pin_memory=True)\n",
    "\n",
    "# ── 2. Multi-task linear probe ─────────────────────────────────────────────────\n",
    "def linear_probe_multi(model, loader, n_epoch=1):\n",
    "    feat_dim   = 512              # resnet head size\n",
    "    n_tasks    = 100\n",
    "    model.eval().cuda()\n",
    "\n",
    "    head = torch.nn.Linear(feat_dim, n_tasks).cuda()\n",
    "    crit = torch.nn.BCEWithLogitsLoss()\n",
    "    opt  = torch.optim.Adam(head.parameters(), lr=1e-2)\n",
    "\n",
    "    for epoch in trange(n_epoch):\n",
    "        runloss = 0.\n",
    "        for imgs, lbls in loader:                  # lbls → (B, 100)\n",
    "            imgs  = torch.nn.functional.interpolate(\n",
    "                        imgs, size=(224,224), mode='bilinear', align_corners=False\n",
    "                    ).cuda(non_blocking=True)\n",
    "            lbls  = lbls.cuda(non_blocking=True)\n",
    "\n",
    "            opt.zero_grad(set_to_none=True)\n",
    "            with torch.cuda.amp.autocast():        # mixed precision, optional\n",
    "                feats   = model(imgs)              # (B, 1000)\n",
    "                logits  = head(feats)              # (B, 100)\n",
    "                loss    = crit(logits, lbls)\n",
    "            loss.backward()\n",
    "            opt.step()\n",
    "            runloss += loss.item()\n",
    "\n",
    "        print(f'Epoch {epoch+1}: loss = {runloss/len(loader):.4f}')\n",
    "\n",
    "    # ─ Evaluation per task ─\n",
    "    correct = torch.zeros(n_tasks, device='cuda')\n",
    "    total   = torch.zeros(n_tasks, device='cuda')\n",
    "\n",
    "    with torch.no_grad():\n",
    "        for imgs, lbls in loader:\n",
    "            imgs  = torch.nn.functional.interpolate(\n",
    "                        imgs, size=(224,224), mode='bilinear', align_corners=False\n",
    "                    ).cuda(non_blocking=True)\n",
    "            lbls  = lbls.cuda(non_blocking=True)\n",
    "\n",
    "            preds   = (head(model(imgs)) > 0).float()\n",
    "            correct += (preds == lbls).sum(dim=0)\n",
    "            total   += lbls.size(0)\n",
    "\n",
    "    acc = (100*correct/total).cpu().numpy()        # shape (100,)\n",
    "    print(f'Mean accuracy over 100 tasks: {acc.mean():.2f}%')\n",
    "    return acc\n",
    "\n",
    "# ── 3. Run it ──────────────────────────────────────────────────────────────────\n",
    "pre_task_accuracies = linear_probe_multi(resnet_pretrained, multi_loader, n_epoch=30)\n"
   ]
  },
  {
   "cell_type": "code",
   "execution_count": 4,
   "id": "b7ece696",
   "metadata": {},
   "outputs": [
    {
     "data": {
      "text/plain": [
       "(array([ 2.,  0.,  2.,  8.,  5.,  5.,  2.,  5.,  5.,  8., 10.,  9.,  9.,\n",
       "         7.,  5.,  6.,  3.,  3.,  3.,  3.]),\n",
       " array([55.27000046, 56.23500061, 57.20000076, 58.16500092, 59.13000107,\n",
       "        60.09500122, 61.06000137, 62.02500153, 62.99000168, 63.95500183,\n",
       "        64.91999817, 65.88500214, 66.84999847, 67.81500244, 68.77999878,\n",
       "        69.74500275, 70.70999908, 71.67500305, 72.63999939, 73.60500336,\n",
       "        74.56999969]),\n",
       " <BarContainer object of 20 artists>)"
      ]
     },
     "execution_count": 4,
     "metadata": {},
     "output_type": "execute_result"
    },
    {
     "data": {
      "image/png": "[encoded data removed]",
      "text/plain": [
       "<Figure size 640x480 with 1 Axes>"
      ]
     },
     "metadata": {},
     "output_type": "display_data"
    }
   ],
   "source": [
    "plt.hist(pre_task_accuracies, bins=20)"
   ]
  },
  {
   "cell_type": "code",
   "execution_count": 5,
   "id": "a148dbe6",
   "metadata": {},
   "outputs": [],
   "source": [
    "def compute_expectation_variance(K, M, T=1.0):\n",
    "    if K.shape != M.shape:\n",
    "        raise ValueError(\"K and M must have the same shape.\")\n",
    "\n",
    "    sigma = torch.sigmoid(K / T)              # σ(K_{ij}/T)\n",
    "    expectation = (M * sigma).sum()           # Σ M σ\n",
    "    variance = ((M**2) * sigma * (1 - sigma)).sum()  # Σ M² σ(1−σ)\n",
    "\n",
    "    return expectation, variance  "
   ]
  },
  {
   "cell_type": "code",
   "execution_count": null,
   "id": "4b617baf",
   "metadata": {},
   "outputs": [
    {
     "name": "stdout",
     "output_type": "stream",
     "text": [
      "Epoch 1, Loss: -115708.8025, Expectation: 172635.4919, Variance: 56926.6892\n",
      "Epoch 2, Loss: -116346.1586, Expectation: 174091.6016, Variance: 57745.4430\n",
      "Epoch 3, Loss: -116345.1238, Expectation: 174091.3261, Variance: 57746.2024\n",
      "Epoch 4, Loss: -116344.9088, Expectation: 174091.3853, Variance: 57746.4763\n",
      "Epoch 5, Loss: -116344.8603, Expectation: 174091.4995, Variance: 57746.6393\n",
      "Epoch 6, Loss: -116346.5906, Expectation: 174092.8988, Variance: 57746.3080\n",
      "Epoch 7, Loss: -116344.2360, Expectation: 174091.1811, Variance: 57746.9446\n",
      "Epoch 8, Loss: -116345.7895, Expectation: 174092.4227, Variance: 57746.6330\n",
      "Epoch 9, Loss: -116343.9963, Expectation: 174091.0832, Variance: 57747.0871\n",
      "Epoch 10, Loss: -116343.9059, Expectation: 174091.0627, Variance: 57747.1567\n",
      "Epoch 11, Loss: -116347.9816, Expectation: 174094.1070, Variance: 57746.1254\n",
      "Epoch 12, Loss: -116343.6088, Expectation: 174090.8527, Variance: 57747.2439\n",
      "Epoch 13, Loss: -116343.4186, Expectation: 174090.7036, Variance: 57747.2851\n",
      "Epoch 14, Loss: -116346.0970, Expectation: 174092.7442, Variance: 57746.6471\n",
      "Epoch 15, Loss: -116345.1561, Expectation: 174092.0494, Variance: 57746.8931\n",
      "Epoch 16, Loss: -116343.9602, Expectation: 174091.1397, Variance: 57747.1794\n",
      "Epoch 17, Loss: -116345.7614, Expectation: 174092.5401, Variance: 57746.7790\n",
      "Epoch 18, Loss: -116344.8149, Expectation: 174091.7920, Variance: 57746.9772\n",
      "Epoch 19, Loss: -116345.9302, Expectation: 174092.6387, Variance: 57746.7086\n",
      "Epoch 20, Loss: -116345.7765, Expectation: 174092.5473, Variance: 57746.7709\n",
      "Epoch 21, Loss: -116345.5926, Expectation: 174092.4051, Variance: 57746.8128\n",
      "Epoch 22, Loss: -116344.8002, Expectation: 174091.8112, Variance: 57747.0110\n",
      "Epoch 23, Loss: -116343.2919, Expectation: 174090.6989, Variance: 57747.4072\n",
      "Epoch 24, Loss: -116343.6808, Expectation: 174090.9906, Variance: 57747.3098\n",
      "Epoch 25, Loss: -116342.2485, Expectation: 174089.9082, Variance: 57747.6598\n",
      "Epoch 26, Loss: -116345.7075, Expectation: 174092.5152, Variance: 57746.8076\n",
      "Epoch 27, Loss: -116345.2606, Expectation: 174092.1650, Variance: 57746.9044\n",
      "Epoch 28, Loss: -116344.8544, Expectation: 174091.8833, Variance: 57747.0291\n",
      "Epoch 29, Loss: -116344.8610, Expectation: 174091.9045, Variance: 57747.0434\n",
      "Epoch 30, Loss: -116345.7271, Expectation: 174092.5155, Variance: 57746.7881\n"
     ]
    },
    {
     "ename": "KeyboardInterrupt",
     "evalue": "",
     "output_type": "error",
     "traceback": [
      "\u001b[0;31m---------------------------------------------------------------------------\u001b[0m",
      "\u001b[0;31mKeyboardInterrupt\u001b[0m                         Traceback (most recent call last)",
      "Cell \u001b[0;32mIn[6], line 21\u001b[0m\n\u001b[1;32m     18\u001b[0m n \u001b[38;5;241m=\u001b[39m \u001b[38;5;241m0\u001b[39m\n\u001b[1;32m     20\u001b[0m \u001b[38;5;28;01mfor\u001b[39;00m images, labels \u001b[38;5;129;01min\u001b[39;00m train_loader:\n\u001b[0;32m---> 21\u001b[0m     images \u001b[38;5;241m=\u001b[39m torch\u001b[38;5;241m.\u001b[39mnn\u001b[38;5;241m.\u001b[39mfunctional\u001b[38;5;241m.\u001b[39minterpolate(images, size\u001b[38;5;241m=\u001b[39m(\u001b[38;5;241m224\u001b[39m, \u001b[38;5;241m224\u001b[39m), mode\u001b[38;5;241m=\u001b[39m\u001b[38;5;124m'\u001b[39m\u001b[38;5;124mbilinear\u001b[39m\u001b[38;5;124m'\u001b[39m, align_corners\u001b[38;5;241m=\u001b[39m\u001b[38;5;28;01mFalse\u001b[39;00m)\n\u001b[1;32m     22\u001b[0m     images \u001b[38;5;241m=\u001b[39m images\u001b[38;5;241m.\u001b[39mcuda()\n\u001b[1;32m     24\u001b[0m     \u001b[38;5;28;01mwith\u001b[39;00m torch\u001b[38;5;241m.\u001b[39mno_grad():\n",
      "File \u001b[0;32m/opt/anaconda3/lib/python3.12/site-packages/torch/nn/functional.py:4580\u001b[0m, in \u001b[0;36minterpolate\u001b[0;34m(input, size, scale_factor, mode, align_corners, recompute_scale_factor, antialias)\u001b[0m\n\u001b[1;32m   4571\u001b[0m         \u001b[38;5;28;01mif\u001b[39;00m torch\u001b[38;5;241m.\u001b[39mare_deterministic_algorithms_enabled() \u001b[38;5;129;01mand\u001b[39;00m (\n\u001b[1;32m   4572\u001b[0m             \u001b[38;5;28minput\u001b[39m\u001b[38;5;241m.\u001b[39mis_cuda \u001b[38;5;129;01mor\u001b[39;00m \u001b[38;5;28minput\u001b[39m\u001b[38;5;241m.\u001b[39mis_xpu\n\u001b[1;32m   4573\u001b[0m         ):\n\u001b[1;32m   4574\u001b[0m             \u001b[38;5;66;03m# Use slow decomp whose backward will be in terms of index_put\u001b[39;00m\n\u001b[1;32m   4575\u001b[0m             \u001b[38;5;66;03m# importlib is required because the import cannot be top level\u001b[39;00m\n\u001b[1;32m   4576\u001b[0m             \u001b[38;5;66;03m# (cycle) and cannot be nested (TS doesn't support)\u001b[39;00m\n\u001b[1;32m   4577\u001b[0m             \u001b[38;5;28;01mreturn\u001b[39;00m importlib\u001b[38;5;241m.\u001b[39mimport_module(\n\u001b[1;32m   4578\u001b[0m                 \u001b[38;5;124m\"\u001b[39m\u001b[38;5;124mtorch._decomp.decompositions\u001b[39m\u001b[38;5;124m\"\u001b[39m\n\u001b[1;32m   4579\u001b[0m             )\u001b[38;5;241m.\u001b[39m_upsample_linear_vec(\u001b[38;5;28minput\u001b[39m, output_size, align_corners, scale_factors)\n\u001b[0;32m-> 4580\u001b[0m     \u001b[38;5;28;01mreturn\u001b[39;00m torch\u001b[38;5;241m.\u001b[39m_C\u001b[38;5;241m.\u001b[39m_nn\u001b[38;5;241m.\u001b[39mupsample_bilinear2d(\n\u001b[1;32m   4581\u001b[0m         \u001b[38;5;28minput\u001b[39m, output_size, align_corners, scale_factors\n\u001b[1;32m   4582\u001b[0m     )\n\u001b[1;32m   4583\u001b[0m \u001b[38;5;28;01mif\u001b[39;00m \u001b[38;5;28minput\u001b[39m\u001b[38;5;241m.\u001b[39mdim() \u001b[38;5;241m==\u001b[39m \u001b[38;5;241m5\u001b[39m \u001b[38;5;129;01mand\u001b[39;00m mode \u001b[38;5;241m==\u001b[39m \u001b[38;5;124m\"\u001b[39m\u001b[38;5;124mtrilinear\u001b[39m\u001b[38;5;124m\"\u001b[39m:\n\u001b[1;32m   4584\u001b[0m     \u001b[38;5;28;01massert\u001b[39;00m align_corners \u001b[38;5;129;01mis\u001b[39;00m \u001b[38;5;129;01mnot\u001b[39;00m \u001b[38;5;28;01mNone\u001b[39;00m\n",
      "\u001b[0;31mKeyboardInterrupt\u001b[0m: "
     ]
    }
   ],
   "source": [
    "beta = 1\n",
    "T = 1\n",
    "\n",
    "n_epoch = 30\n",
    "\n",
    "resnet_pretrained.train()\n",
    "resnet_pretrained_frozen.eval()\n",
    "\n",
    "optimizer = torch.optim.Adam(resnet_pretrained.parameters(), lr=0.001)\n",
    "\n",
    "resnet_pretrained.cuda()\n",
    "resnet_pretrained_frozen.cuda()\n",
    "\n",
    "for epoch in range(n_epoch):  \n",
    "    running_loss = 0.0\n",
    "    running_exp = 0.0\n",
    "    running_var = 0.0\n",
    "    n = 0\n",
    "\n",
    "    for images, labels in train_loader:\n",
    "        images = torch.nn.functional.interpolate(images, size=(224, 224), mode='bilinear', align_corners=False)\n",
    "        images = images.cuda()\n",
    "\n",
    "        with torch.no_grad():\n",
    "            outputs = resnet_pretrained_frozen(images)\n",
    "\n",
    "            norm_outputs = outputs / outputs.norm(dim=1, keepdim=True)\n",
    "            K = norm_outputs @ norm_outputs.T\n",
    "            \n",
    "        outputs = resnet_pretrained(images)\n",
    "\n",
    "        norm_outputs = outputs / outputs.norm(dim=1, keepdim=True)\n",
    "        M = norm_outputs @ norm_outputs.T\n",
    "\n",
    "        exp, var = compute_expectation_variance(K, M, T)\n",
    "\n",
    "        loss = beta * var -  exp\n",
    "\n",
    "        optimizer.zero_grad()\n",
    "        loss.backward()\n",
    "        optimizer.step()\n",
    "        \n",
    "        # Print statistics  \n",
    "\n",
    "        running_loss += loss.item()\n",
    "        running_exp += exp.item()\n",
    "        running_var += var.item()\n",
    "\n",
    "        n += 1\n",
    "\n",
    "    print(f'Epoch {epoch+1}, Loss: {running_loss/n:.4f}, Expectation: {running_exp/n:.4f}, Variance: {running_var/n:.4f}')"
   ]
  },
  {
   "cell_type": "code",
   "execution_count": 7,
   "id": "8443ee65",
   "metadata": {},
   "outputs": [
    {
     "name": "stdout",
     "output_type": "stream",
     "text": [
      "Model state_dict saved to resnet_pretrained_finetuned_20250507_004035.pth at 20250507_004035\n"
     ]
    }
   ],
   "source": [
    "from datetime import datetime\n",
    "\n",
    "# Save the fine-tuned ResNet backbone with a timestamp\n",
    "timestamp = datetime.now().strftime(\"%Y%m%d_%H%M%S\")\n",
    "filename = f\"resnet_pretrained_finetuned_{timestamp}.pth\"\n",
    "torch.save(resnet_pretrained.state_dict(), filename)\n",
    "print(f\"Model state_dict saved to {filename} at {timestamp}\")"
   ]
  },
  {
   "cell_type": "code",
   "execution_count": 8,
   "id": "71bf6ffe",
   "metadata": {},
   "outputs": [
    {
     "name": "stderr",
     "output_type": "stream",
     "text": [
      "/tmp/ipykernel_8924/2065752776.py:44: FutureWarning: `torch.cuda.amp.autocast(args...)` is deprecated. Please use `torch.amp.autocast('cuda', args...)` instead.\n",
      "  with torch.cuda.amp.autocast():        # mixed precision, optional\n"
     ]
    },
    {
     "name": "stdout",
     "output_type": "stream",
     "text": [
      "Epoch 1: loss = 0.7010\n",
      "Epoch 2: loss = 0.6949\n",
      "Epoch 3: loss = 0.6943\n",
      "Epoch 4: loss = 0.6944\n",
      "Epoch 5: loss = 0.6945\n",
      "Epoch 6: loss = 0.6947\n",
      "Epoch 7: loss = 0.6948\n",
      "Epoch 8: loss = 0.6949\n",
      "Epoch 9: loss = 0.6950\n",
      "Epoch 10: loss = 0.6950\n",
      "Epoch 11: loss = 0.6950\n",
      "Epoch 12: loss = 0.6950\n",
      "Epoch 13: loss = 0.6951\n",
      "Epoch 14: loss = 0.6951\n",
      "Epoch 15: loss = 0.6951\n",
      "Epoch 16: loss = 0.6951\n",
      "Epoch 17: loss = 0.6951\n",
      "Epoch 18: loss = 0.6951\n",
      "Epoch 19: loss = 0.6951\n",
      "Epoch 20: loss = 0.6951\n",
      "Epoch 21: loss = 0.6951\n",
      "Epoch 22: loss = 0.6951\n",
      "Epoch 23: loss = 0.6951\n",
      "Epoch 24: loss = 0.6951\n",
      "Epoch 25: loss = 0.6951\n",
      "Epoch 26: loss = 0.6951\n",
      "Epoch 27: loss = 0.6951\n",
      "Epoch 28: loss = 0.6951\n",
      "Epoch 29: loss = 0.6951\n",
      "Epoch 30: loss = 0.6951\n",
      "Mean accuracy over 100 tasks: 49.94%\n"
     ]
    }
   ],
   "source": [
    "import torch, numpy as np\n",
    "from einops import rearrange\n",
    "\n",
    "# ── 1. Build a “multi-label” view of the data ──────────────────────────────────\n",
    "labels_matrix = np.stack(labels_list)          # (100, N)\n",
    "labels_matrix = torch.from_numpy(labels_matrix).float()  # to tensor\n",
    "\n",
    "class MultiTaskWrapper(torch.utils.data.Dataset):\n",
    "    def __init__(self, base_ds, all_labels):\n",
    "        self.base_ds   = base_ds               # the dataset behind your test_loader\n",
    "        self.all_lbls  = all_labels            # (100, N)\n",
    "    def __len__(self): return len(self.base_ds)\n",
    "    def __getitem__(self, idx):\n",
    "        img, _    = self.base_ds[idx]\n",
    "        lbl_vec   = self.all_lbls[:, idx]      # (100,)\n",
    "        return img, lbl_vec\n",
    "\n",
    "multi_ds     = MultiTaskWrapper(test_loader.dataset, labels_matrix)\n",
    "multi_loader = torch.utils.data.DataLoader(multi_ds,\n",
    "                                           batch_size=test_loader.batch_size,\n",
    "                                           shuffle=False,\n",
    "                                           num_workers=test_loader.num_workers,\n",
    "                                           pin_memory=True)\n",
    "\n",
    "# ── 2. Multi-task linear probe ─────────────────────────────────────────────────\n",
    "def linear_probe_multi(model, loader, n_epoch=1):\n",
    "    feat_dim   = 512              # resnet head size\n",
    "    n_tasks    = 100\n",
    "    model.eval().cuda()\n",
    "\n",
    "    head = torch.nn.Linear(feat_dim, n_tasks).cuda()\n",
    "    crit = torch.nn.BCEWithLogitsLoss()\n",
    "    opt  = torch.optim.Adam(head.parameters(), lr=1e-3)\n",
    "\n",
    "    for epoch in range(n_epoch):\n",
    "        runloss = 0.\n",
    "        for imgs, lbls in loader:                  # lbls → (B, 100)\n",
    "            imgs  = torch.nn.functional.interpolate(\n",
    "                        imgs, size=(224,224), mode='bilinear', align_corners=False\n",
    "                    ).cuda(non_blocking=True)\n",
    "            lbls  = lbls.cuda(non_blocking=True)\n",
    "\n",
    "            opt.zero_grad(set_to_none=True)\n",
    "            with torch.cuda.amp.autocast():        # mixed precision, optional\n",
    "                feats   = model(imgs)              # (B, 1000)\n",
    "                logits  = head(feats)              # (B, 100)\n",
    "                loss    = crit(logits, lbls)\n",
    "            loss.backward()\n",
    "            opt.step()\n",
    "            runloss += loss.item()\n",
    "\n",
    "        print(f'Epoch {epoch+1}: loss = {runloss/len(loader):.4f}')\n",
    "\n",
    "    # ─ Evaluation per task ─\n",
    "    correct = torch.zeros(n_tasks, device='cuda')\n",
    "    total   = torch.zeros(n_tasks, device='cuda')\n",
    "\n",
    "    with torch.no_grad():\n",
    "        for imgs, lbls in loader:\n",
    "            imgs  = torch.nn.functional.interpolate(\n",
    "                        imgs, size=(224,224), mode='bilinear', align_corners=False\n",
    "                    ).cuda(non_blocking=True)\n",
    "            lbls  = lbls.cuda(non_blocking=True)\n",
    "\n",
    "            preds   = (head(model(imgs)) > 0).float()\n",
    "            correct += (preds == lbls).sum(dim=0)\n",
    "            total   += lbls.size(0)\n",
    "\n",
    "    acc = (100*correct/total).cpu().numpy()        # shape (100,)\n",
    "    print(f'Mean accuracy over 100 tasks: {acc.mean():.2f}%')\n",
    "    return acc\n",
    "\n",
    "# ── 3. Run it ──────────────────────────────────────────────────────────────────\n",
    "task_accuracies = linear_probe_multi(resnet_pretrained, multi_loader, n_epoch=30)\n"
   ]
  },
  {
   "cell_type": "code",
   "execution_count": 9,
   "id": "a7dc44df",
   "metadata": {},
   "outputs": [
    {
     "name": "stdout",
     "output_type": "stream",
     "text": [
      "Variance before: 20.262805938720703\n",
      "Variance after: 0.3568149209022522\n"
     ]
    }
   ],
   "source": [
    "variance = np.var(task_accuracies)\n",
    "old_var = np.var(pre_task_accuracies)\n",
    "print(f\"Variance before: {old_var}\")\n",
    "print(f\"Variance after: {variance}\")"
   ]
  },
  {
   "cell_type": "code",
   "execution_count": 10,
   "id": "53a4260d",
   "metadata": {},
   "outputs": [
    {
     "data": {
      "text/plain": [
       "<matplotlib.legend.Legend at 0x740d6c3a7bc0>"
      ]
     },
     "execution_count": 10,
     "metadata": {},
     "output_type": "execute_result"
    },
    {
     "data": {
      "image/png": "[encoded data removed]",
      "text/plain": [
       "<Figure size 640x480 with 1 Axes>"
      ]
     },
     "metadata": {},
     "output_type": "display_data"
    }
   ],
   "source": [
    "plt.hist(pre_task_accuracies, bins=10, alpha=0.5, label='Before')\n",
    "plt.hist(task_accuracies, bins=10, alpha=0.5, label='After')\n",
    "plt.legend()"
   ]
  },
  {
   "cell_type": "code",
   "execution_count": 11,
   "id": "a2cf1c06",
   "metadata": {},
   "outputs": [
    {
     "data": {
      "image/png": "[encoded data removed]",
      "text/plain": [
       "<Figure size 800x500 with 1 Axes>"
      ]
     },
     "metadata": {},
     "output_type": "display_data"
    }
   ],
   "source": [
    "import matplotlib.pyplot as plt\n",
    "\n",
    "plt.figure(figsize=(8, 5))\n",
    "\n",
    "# ── use identical bin edges so the bars line up ──\n",
    "bins = np.linspace(0, 100, 50)              # 0 – 1 in 5-point steps\n",
    "\n",
    "plt.hist(pre_task_accuracies, bins=bins,\n",
    "         alpha=0.6, density=True,\n",
    "         label='Before fine-tune')\n",
    "\n",
    "plt.hist(task_accuracies,     bins=bins,\n",
    "         alpha=0.6, density=True,\n",
    "         label='After fine-tune')\n",
    "\n",
    "# ── mark the means ──\n",
    "plt.axvline(np.mean(pre_task_accuracies),  linestyle='--', linewidth=1,\n",
    "            label=f\"Mean before: {np.mean(pre_task_accuracies):.2f}\")\n",
    "plt.axvline(np.mean(task_accuracies),      linestyle='--', linewidth=1,\n",
    "            label=f\"Mean after:  {np.mean(task_accuracies):.2f}\")\n",
    "\n",
    "plt.xlabel('Accuracy')\n",
    "plt.ylabel('Density')\n",
    "plt.title('Task-wise accuracy before and after linear probe')\n",
    "plt.legend()\n",
    "plt.tight_layout()\n",
    "plt.show()"
   ]
  },
  {
   "cell_type": "code",
   "execution_count": null,
   "id": "5596e1ca",
   "metadata": {},
   "outputs": [],
   "source": []
  },
  {
   "cell_type": "code",
   "execution_count": null,
   "id": "929a2155",
   "metadata": {},
   "outputs": [],
   "source": []
  }
 ],
 "metadata": {
  "kernelspec": {
   "display_name": "base",
   "language": "python",
   "name": "python3"
  },
  "language_info": {
   "codemirror_mode": {
    "name": "ipython",
    "version": 3
   },
   "file_extension": ".py",
   "mimetype": "text/x-python",
   "name": "python",
   "nbconvert_exporter": "python",
   "pygments_lexer": "ipython3",
   "version": "3.12.7"
  }
 },
 "nbformat": 4,
 "nbformat_minor": 5
}
