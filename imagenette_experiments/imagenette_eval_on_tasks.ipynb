{
 "cells": [
  {
   "cell_type": "code",
   "execution_count": 12,
   "id": "01eaf6b4",
   "metadata": {},
   "outputs": [],
   "source": [
    "import torch\n",
    "from torchvision import transforms\n",
    "\n",
    "import torchvision.datasets as datasets\n",
    "# Using CIFAR-10 dataset\n",
    "from torchvision.datasets import CIFAR10\n",
    "from torch.utils.data import DataLoader\n",
    "\n",
    "from torchvision import models\n",
    "\n",
    "import numpy as np\n",
    "import matplotlib.pyplot as plt\n",
    "\n",
    "from einops import rearrange\n",
    "\n",
    "from tqdm.notebook import tqdm, trange\n",
    "import os\n",
    "from torchvision.datasets import ImageFolder\n",
    "import tarfile\n",
    "\n",
    "# Define the transformations\n",
    "transform = transforms.Compose([\n",
    "    transforms.Resize(160),               # resize to 160×160 for imagenette2-160\n",
    "    transforms.CenterCrop(160),\n",
    "    transforms.ToTensor(),\n",
    "    transforms.Normalize((0.5, 0.5, 0.5),\n",
    "                         (0.5, 0.5, 0.5)),\n",
    "])\n",
    "# Paths for the Imagenette dataset (assumes you want it under ./data/imagenette2-160/)\n",
    "imagenette_root = \"./data/imagenette2-160\"\n",
    "train_dir = os.path.join(imagenette_root, \"train\")\n",
    "val_dir   = os.path.join(imagenette_root, \"val\")\n",
    "\n",
    "# download & extract if not already present\n",
    "if not os.path.isdir(imagenette_root):\n",
    "    os.makedirs(os.path.dirname(imagenette_root), exist_ok=True)\n",
    "    url = \"https://s3.amazonaws.com/fast-ai-imageclas/imagenette2-160.tgz\"\n",
    "    archive_path = os.path.join(os.path.dirname(imagenette_root), \"imagenette2-160.tgz\")\n",
    "    if not os.path.exists(archive_path):\n",
    "        print(\"Downloading Imagenette dataset...\")\n",
    "        import urllib.request\n",
    "        urllib.request.urlretrieve(url, archive_path)\n",
    "    print(\"Extracting Imagenette dataset...\")\n",
    "    with tarfile.open(archive_path, \"r:gz\") as tar:\n",
    "        tar.extractall(path=os.path.dirname(imagenette_root))\n",
    "    print(\"Done.\")\n",
    "\n",
    "# Load the Imagenette dataset\n",
    "train_dataset = ImageFolder(train_dir, transform=transform)\n",
    "test_dataset  = ImageFolder(val_dir,   transform=transform)\n",
    "\n",
    "# Create data loaders\n",
    "train_loader = DataLoader(train_dataset, batch_size=512, shuffle=True)\n",
    "test_loader  = DataLoader(test_dataset,  batch_size=512, shuffle=False)"
   ]
  },
  {
   "cell_type": "code",
   "execution_count": 28,
   "id": "d3c3c535",
   "metadata": {},
   "outputs": [
    {
     "name": "stderr",
     "output_type": "stream",
     "text": [
      "/opt/anaconda3/lib/python3.12/site-packages/torchvision/models/_utils.py:208: UserWarning: The parameter 'pretrained' is deprecated since 0.13 and may be removed in the future, please use 'weights' instead.\n",
      "  warnings.warn(\n",
      "/opt/anaconda3/lib/python3.12/site-packages/torchvision/models/_utils.py:223: UserWarning: Arguments other than a weight enum or `None` for 'weights' are deprecated since 0.13 and may be removed in the future. The current behavior is equivalent to passing `weights=ResNet50_Weights.IMAGENET1K_V1`. You can also use `weights=ResNet50_Weights.DEFAULT` to get the most up-to-date weights.\n",
      "  warnings.warn(msg)\n"
     ]
    }
   ],
   "source": [
    "resnet_pretrained = models.resnet50(pretrained=True)\n",
    "resnet_pretrained.fc = torch.nn.Identity()\n",
    "\n",
    "resnet_pretrained_frozen = models.resnet50(pretrained=True)\n",
    "resnet_pretrained_frozen.fc = torch.nn.Identity()\n",
    "\n",
    "#load prior tasks\n",
    "labels_list = np.load('labels_list_imagenette_1.npy')"
   ]
  },
  {
   "cell_type": "code",
   "execution_count": 3,
   "id": "0d5a1b9c",
   "metadata": {},
   "outputs": [
    {
     "data": {
      "application/vnd.jupyter.widget-view+json": {
       "model_id": "8ba7849fcea54858af1fb2dc3de14574",
       "version_major": 2,
       "version_minor": 0
      },
      "text/plain": [
       "  0%|          | 0/30 [00:00<?, ?it/s]"
      ]
     },
     "metadata": {},
     "output_type": "display_data"
    },
    {
     "name": "stderr",
     "output_type": "stream",
     "text": [
      "/tmp/ipykernel_19703/765765762.py:47: FutureWarning: `torch.cuda.amp.autocast(args...)` is deprecated. Please use `torch.amp.autocast('cuda', args...)` instead.\n",
      "  with torch.cuda.amp.autocast():        # mixed precision, optional\n"
     ]
    }
   ],
   "source": [
    "# ── 1. Build a “multi-label” view of the data ──────────────────────────────────\n",
    "labels_matrix = np.stack(labels_list)          # (100, N)\n",
    "labels_matrix = torch.from_numpy(labels_matrix).float()  # to tensor\n",
    "\n",
    "class MultiTaskWrapper(torch.utils.data.Dataset):\n",
    "    def __init__(self, base_ds, all_labels):\n",
    "        self.base_ds   = base_ds               # the dataset behind your test_loader\n",
    "        self.all_lbls  = all_labels            # (100, N)\n",
    "    def __len__(self): return len(self.base_ds)\n",
    "    def __getitem__(self, idx):\n",
    "        img, _    = self.base_ds[idx]\n",
    "        lbl_vec   = self.all_lbls[:, idx]      # (100,)\n",
    "        return img, lbl_vec\n",
    "\n",
    "multi_ds     = MultiTaskWrapper(test_loader.dataset, labels_matrix)\n",
    "multi_loader = torch.utils.data.DataLoader(multi_ds,\n",
    "                                           batch_size=test_loader.batch_size,\n",
    "                                           shuffle=False,\n",
    "                                           num_workers=test_loader.num_workers,\n",
    "                                           pin_memory=True)\n",
    "\n",
    "# ── 2. Multi-task linear probe ─────────────────────────────────────────────────\n",
    "def linear_probe_multi(model, loader, feat_dim = 2048, n_epoch=1):\n",
    "    n_tasks = 256\n",
    "    model.eval().cuda()\n",
    "\n",
    "    head = torch.nn.Linear(feat_dim, n_tasks).cuda()\n",
    "    crit = torch.nn.BCEWithLogitsLoss()\n",
    "    opt = torch.optim.Adam(head.parameters(), lr=1e-2)\n",
    "    \n",
    "    # Add cosine annealing scheduler\n",
    "    scheduler = torch.optim.lr_scheduler.CosineAnnealingLR(\n",
    "        opt,\n",
    "        T_max=n_epoch,  # Total number of epochs\n",
    "        eta_min=1e-6    # Minimum learning rate\n",
    "    )\n",
    "\n",
    "    for epoch in trange(n_epoch):\n",
    "        runloss = 0.\n",
    "        for imgs, lbls in loader:                  # lbls → (B, 100)\n",
    "            imgs = torch.nn.functional.interpolate(\n",
    "                imgs, size=(224,224), mode='bilinear', align_corners=False\n",
    "            ).cuda(non_blocking=True)\n",
    "            lbls = lbls.cuda(non_blocking=True)\n",
    "\n",
    "            opt.zero_grad(set_to_none=True)\n",
    "            with torch.cuda.amp.autocast():        # mixed precision, optional\n",
    "                feats = model(imgs)                # (B, 1000)\n",
    "                logits = head(feats)               # (B, n_tasks)\n",
    "                loss = crit(logits, lbls)\n",
    "            loss.backward()\n",
    "            opt.step()\n",
    "            runloss += loss.item()\n",
    "\n",
    "        # Step the scheduler after each epoch\n",
    "        scheduler.step()\n",
    "        current_lr = scheduler.get_last_lr()[0]\n",
    "\n",
    "    # ─ Evaluation per task ─\n",
    "    correct = torch.zeros(n_tasks, device='cuda')\n",
    "    total   = torch.zeros(n_tasks, device='cuda')\n",
    "\n",
    "    with torch.no_grad():\n",
    "        for imgs, lbls in loader:\n",
    "            imgs  = torch.nn.functional.interpolate(\n",
    "                        imgs, size=(224,224), mode='bilinear', align_corners=False\n",
    "                    ).cuda(non_blocking=True)\n",
    "            lbls  = lbls.cuda(non_blocking=True)\n",
    "\n",
    "            preds   = (head(model(imgs)) > 0).float()\n",
    "            correct += (preds == lbls).sum(dim=0)\n",
    "            total   += lbls.size(0)\n",
    "\n",
    "    acc = (100*correct/total).cpu().numpy()        # shape (100,)\n",
    "    return acc\n",
    "\n",
    "# ── 3. Run it ──────────────────────────────────────────────────────────────────\n",
    "pre_task_accuracies = linear_probe_multi(resnet_pretrained, multi_loader, n_epoch=30)\n"
   ]
  },
  {
   "cell_type": "code",
   "execution_count": 4,
   "id": "b7ece696",
   "metadata": {},
   "outputs": [
    {
     "data": {
      "text/plain": [
       "(array([ 2.,  0.,  0.,  0.,  4.,  5.,  4.,  4., 14., 11., 14., 25., 24.,\n",
       "        27., 39., 25., 24., 17., 13.,  4.]),\n",
       " array([75.00637054, 75.61528778, 76.22420502, 76.83312225, 77.44203949,\n",
       "        78.05095673, 78.65987396, 79.2687912 , 79.87770844, 80.48662567,\n",
       "        81.09554291, 81.70446014, 82.31337738, 82.92229462, 83.53121185,\n",
       "        84.14012909, 84.74904633, 85.35796356, 85.9668808 , 86.57579803,\n",
       "        87.18471527]),\n",
       " <BarContainer object of 20 artists>)"
      ]
     },
     "execution_count": 4,
     "metadata": {},
     "output_type": "execute_result"
    },
    {
     "data": {
      "image/png": "[encoded data removed]",
      "text/plain": [
       "<Figure size 640x480 with 1 Axes>"
      ]
     },
     "metadata": {},
     "output_type": "display_data"
    }
   ],
   "source": [
    "plt.hist(pre_task_accuracies, bins=20)"
   ]
  },
  {
   "cell_type": "code",
   "execution_count": 6,
   "id": "9f987dee",
   "metadata": {},
   "outputs": [
    {
     "data": {
      "text/plain": [
       "array([83.89809 , 79.05733 , 83.617836, 84.28026 , 82.29299 , 79.92357 ,\n",
       "       83.49045 , 84.254776, 85.70701 , 83.28662 , 82.34395 , 77.78344 ,\n",
       "       81.63057 , 82.57325 , 85.55414 , 83.64331 , 83.617836, 85.605095,\n",
       "       85.73248 , 81.52866 , 87.184715, 75.41401 , 81.681526, 82.1656  ,\n",
       "       84.15286 , 84.891716, 82.54777 , 83.84714 , 84.458595, 84.86624 ,\n",
       "       84.15286 , 86.42038 , 83.92357 , 83.49045 , 83.23567 , 78.21656 ,\n",
       "       83.00637 , 85.88535 , 82.57325 , 84.611465, 81.63057 , 84.05096 ,\n",
       "       81.9363  , 80.12739 , 83.592354, 86.0637  , 86.21656 , 83.108284,\n",
       "       84.178345, 84.20382 , 78.11465 , 82.92994 , 83.33758 , 82.191086,\n",
       "       85.01911 , 82.62421 , 80.407646, 81.044586, 85.19745 , 81.52866 ,\n",
       "       77.8344  , 81.73248 , 80.12739 , 85.1465  , 86.11465 , 83.89809 ,\n",
       "       83.64331 , 85.044586, 85.57962 , 84.28026 , 85.248405, 82.318474,\n",
       "       82.87898 , 80.382164, 83.36306 , 85.78344 , 80.968155, 85.63057 ,\n",
       "       83.92357 , 84.15286 , 81.88535 , 85.98726 , 80.50955 , 82.318474,\n",
       "       84.535034, 85.85987 , 78.14013 , 83.64331 , 80.84077 , 86.21656 ,\n",
       "       85.605095, 81.88535 , 82.21656 , 84.05096 , 75.00637 , 79.974525,\n",
       "       80.33121 , 86.038216, 84.382164, 79.66879 , 82.98089 , 83.92357 ,\n",
       "       84.611465, 80.535034, 86.0637  , 83.69427 , 83.89809 , 83.56688 ,\n",
       "       85.78344 , 83.184715, 79.94904 , 83.388535, 84.20382 , 83.28662 ,\n",
       "       84.2293  , 81.681526, 78.11465 , 84.78981 , 83.33758 , 81.961784,\n",
       "       83.13376 , 83.41401 , 87.15923 , 81.681526, 85.29936 , 82.751595,\n",
       "       85.27389 , 77.605095, 82.675156, 86.21656 , 85.52866 , 80.458595,\n",
       "       83.87261 , 80.9172  , 81.22293 , 82.49682 , 84.12739 , 84.99363 ,\n",
       "       82.57325 , 81.50318 , 85.50318 , 83.79618 , 83.94904 , 85.27389 ,\n",
       "       85.19745 , 84.63694 , 83.541405, 86.36943 , 84.58599 , 82.34395 ,\n",
       "       82.21656 , 83.71974 , 83.94904 , 81.07006 , 80.71338 , 84.10191 ,\n",
       "       84.43312 , 82.62421 , 80.86624 , 84.48408 , 80.458595, 81.70701 ,\n",
       "       86.72611 , 82.26752 , 82.8535  , 82.8535  , 82.1656  , 82.70064 ,\n",
       "       83.031845, 82.52229 , 83.21019 , 79.28662 , 82.21656 , 85.73248 ,\n",
       "       84.9172  , 82.242035, 82.038216, 85.47771 , 81.57962 , 84.94267 ,\n",
       "       81.8344  , 80.28026 , 82.8535  , 78.92994 , 84.63694 , 82.57325 ,\n",
       "       84.07643 , 85.12102 , 82.242035, 84.84077 , 84.05096 , 82.1656  ,\n",
       "       82.64968 , 81.09554 , 80.86624 , 83.592354, 83.51592 , 82.98089 ,\n",
       "       83.28662 , 79.00637 , 82.26752 , 83.64331 , 83.108284, 82.70064 ,\n",
       "       85.8344  , 80.458595, 84.178345, 81.85987 , 79.92357 , 86.01274 ,\n",
       "       86.01274 , 84.      , 80.50955 , 83.84714 , 84.968155, 85.42675 ,\n",
       "       79.66879 , 77.47771 , 79.7707  , 83.21019 , 84.84077 , 81.9363  ,\n",
       "       81.65605 , 80.20382 , 85.324844, 82.26752 , 84.30573 , 79.21019 ,\n",
       "       83.92357 , 83.7707  , 81.98726 , 82.675156, 78.54777 , 83.821655,\n",
       "       85.044586, 82.98089 , 84.66242 , 83.66879 , 83.41401 , 86.64968 ,\n",
       "       83.13376 , 85.248405, 81.47771 , 81.52866 , 83.66879 , 83.26115 ,\n",
       "       83.974525, 84.9172  , 84.43312 , 86.191086, 83.541405, 85.27389 ,\n",
       "       82.828026, 83.7707  , 84.535034, 81.9363  ], dtype=float32)"
      ]
     },
     "execution_count": 6,
     "metadata": {},
     "output_type": "execute_result"
    }
   ],
   "source": [
    "pre_task_accuracies"
   ]
  },
  {
   "cell_type": "code",
   "execution_count": 7,
   "id": "a148dbe6",
   "metadata": {},
   "outputs": [],
   "source": [
    "def compute_expectation_variance(K, M, T=1.0):\n",
    "    if K.shape != M.shape:\n",
    "        raise ValueError(\"K and M must have the same shape.\")\n",
    "\n",
    "    sigma = torch.sigmoid(K / T)              # σ(K_{ij}/T)\n",
    "    expectation = (M * sigma).sum()           # Σ M σ\n",
    "    variance = ((M**2) * sigma * (1 - sigma)).sum()  # Σ M² σ(1−σ)\n",
    "\n",
    "    return expectation, variance  "
   ]
  },
  {
   "cell_type": "code",
   "execution_count": 29,
   "id": "4b617baf",
   "metadata": {},
   "outputs": [
    {
     "name": "stdout",
     "output_type": "stream",
     "text": [
      "Epoch 1, Loss: 5582.4855, Expectation: 37664.7330, Variance: 5582.4855, lr 9.97e-04\n",
      "Epoch 2, Loss: 2558.8735, Expectation: 21358.5598, Variance: 2558.8735, lr 9.89e-04\n",
      "Epoch 3, Loss: 1989.5931, Expectation: 16852.3843, Variance: 1989.5931, lr 9.76e-04\n",
      "Epoch 4, Loss: 1648.6639, Expectation: 14007.6542, Variance: 1648.6639, lr 9.57e-04\n",
      "Epoch 5, Loss: 1589.9285, Expectation: 13619.2823, Variance: 1589.9285, lr 9.33e-04\n",
      "Epoch 6, Loss: 1735.6070, Expectation: 15000.7003, Variance: 1735.6070, lr 9.05e-04\n",
      "Epoch 7, Loss: 1372.0374, Expectation: 12119.5679, Variance: 1372.0374, lr 8.72e-04\n"
     ]
    },
    {
     "ename": "KeyboardInterrupt",
     "evalue": "",
     "output_type": "error",
     "traceback": [
      "\u001b[0;31m---------------------------------------------------------------------------\u001b[0m",
      "\u001b[0;31mKeyboardInterrupt\u001b[0m                         Traceback (most recent call last)",
      "Cell \u001b[0;32mIn[29], line 49\u001b[0m\n\u001b[1;32m     45\u001b[0m optimizer\u001b[38;5;241m.\u001b[39mstep()\n\u001b[1;32m     47\u001b[0m \u001b[38;5;66;03m# Print statistics  \u001b[39;00m\n\u001b[0;32m---> 49\u001b[0m running_loss \u001b[38;5;241m+\u001b[39m\u001b[38;5;241m=\u001b[39m loss\u001b[38;5;241m.\u001b[39mitem()\n\u001b[1;32m     50\u001b[0m running_exp \u001b[38;5;241m+\u001b[39m\u001b[38;5;241m=\u001b[39m exp\u001b[38;5;241m.\u001b[39mitem()\n\u001b[1;32m     51\u001b[0m running_var \u001b[38;5;241m+\u001b[39m\u001b[38;5;241m=\u001b[39m var\u001b[38;5;241m.\u001b[39mitem()\n",
      "\u001b[0;31mKeyboardInterrupt\u001b[0m: "
     ]
    }
   ],
   "source": [
    "beta = 1\n",
    "T = 1\n",
    "\n",
    "n_epoch = 30\n",
    "\n",
    "resnet_pretrained.train()\n",
    "resnet_pretrained_frozen.eval()\n",
    "\n",
    "# Initial learning rate\n",
    "initial_lr = 0.001\n",
    "optimizer = torch.optim.Adam(resnet_pretrained.parameters(), lr=initial_lr)\n",
    "# Add cosine annealing scheduler\n",
    "scheduler = torch.optim.lr_scheduler.CosineAnnealingLR(optimizer, T_max=n_epoch)\n",
    "\n",
    "resnet_pretrained.cuda()\n",
    "resnet_pretrained_frozen.cuda()\n",
    "\n",
    "for epoch in range(n_epoch):  \n",
    "    running_loss = 0.0\n",
    "    running_exp = 0.0\n",
    "    running_var = 0.0\n",
    "    n = 0\n",
    "\n",
    "    for images, labels in train_loader:\n",
    "        images = torch.nn.functional.interpolate(images, size=(224, 224), mode='bilinear', align_corners=False)\n",
    "        images = images.cuda()\n",
    "\n",
    "        with torch.no_grad():\n",
    "            outputs = resnet_pretrained_frozen(images)\n",
    "\n",
    "            norm_outputs = outputs / outputs.norm(dim=1, keepdim=True)\n",
    "            K = norm_outputs @ norm_outputs.T\n",
    "            \n",
    "        outputs = resnet_pretrained(images)\n",
    "\n",
    "        norm_outputs = outputs / outputs.norm(dim=1, keepdim=True)\n",
    "        M = norm_outputs @ norm_outputs.T\n",
    "\n",
    "        exp, var = compute_expectation_variance(K, M, T)\n",
    "\n",
    "        loss = beta * var -  exp\n",
    "\n",
    "        optimizer.zero_grad()\n",
    "        loss.backward()\n",
    "        optimizer.step()\n",
    "        \n",
    "        # Print statistics  \n",
    "\n",
    "        running_loss += loss.item()\n",
    "        running_exp += exp.item()\n",
    "        running_var += var.item()\n",
    "\n",
    "        n += 1\n",
    "\n",
    "    # Step the scheduler after each epoch\n",
    "    scheduler.step()\n",
    "    current_lr = scheduler.get_last_lr()[0]\n",
    "\n",
    "    print(f'Epoch {epoch+1}, Loss: {running_loss/n:.4f}, Expectation: {running_exp/n:.4f}, Variance: {running_var/n:.4f}, lr {current_lr:.2e}')"
   ]
  },
  {
   "cell_type": "code",
   "execution_count": 7,
   "id": "8443ee65",
   "metadata": {},
   "outputs": [
    {
     "name": "stdout",
     "output_type": "stream",
     "text": [
      "Model state_dict saved to resnet_pretrained_finetuned_20250507_210810.pth at 20250507_210810\n"
     ]
    }
   ],
   "source": [
    "from datetime import datetime\n",
    "\n",
    "# Save the fine-tuned ResNet backbone with a timestamp\n",
    "timestamp = datetime.now().strftime(\"%Y%m%d_%H%M%S\")\n",
    "filename = f\"resnet_pretrained_finetuned_{timestamp}.pth\"\n",
    "torch.save(resnet_pretrained.state_dict(), filename)\n",
    "print(f\"Model state_dict saved to {filename} at {timestamp}\")"
   ]
  },
  {
   "cell_type": "code",
   "execution_count": 30,
   "id": "71bf6ffe",
   "metadata": {},
   "outputs": [
    {
     "data": {
      "application/vnd.jupyter.widget-view+json": {
       "model_id": "d21f66fe31f340668f975e9d3e5acf3a",
       "version_major": 2,
       "version_minor": 0
      },
      "text/plain": [
       "  0%|          | 0/30 [00:00<?, ?it/s]"
      ]
     },
     "metadata": {},
     "output_type": "display_data"
    },
    {
     "name": "stderr",
     "output_type": "stream",
     "text": [
      "/tmp/ipykernel_19703/765765762.py:47: FutureWarning: `torch.cuda.amp.autocast(args...)` is deprecated. Please use `torch.amp.autocast('cuda', args...)` instead.\n",
      "  with torch.cuda.amp.autocast():        # mixed precision, optional\n"
     ]
    }
   ],
   "source": [
    "task_accuracies = linear_probe_multi(resnet_pretrained, multi_loader, n_epoch=30)"
   ]
  },
  {
   "cell_type": "code",
   "execution_count": 31,
   "id": "a7dc44df",
   "metadata": {},
   "outputs": [
    {
     "name": "stdout",
     "output_type": "stream",
     "text": [
      "Variance before: 4.570164680480957\n",
      "Variance after: 2.9348363876342773\n"
     ]
    }
   ],
   "source": [
    "variance = np.var(task_accuracies)\n",
    "old_var = np.var(pre_task_accuracies)\n",
    "print(f\"Variance before: {old_var}\")\n",
    "print(f\"Variance after: {variance}\")"
   ]
  },
  {
   "cell_type": "code",
   "execution_count": 32,
   "id": "53a4260d",
   "metadata": {},
   "outputs": [
    {
     "data": {
      "text/plain": [
       "<matplotlib.legend.Legend at 0x7a8295088f80>"
      ]
     },
     "execution_count": 32,
     "metadata": {},
     "output_type": "execute_result"
    },
    {
     "data": {
      "image/png": "[encoded data removed]",
      "text/plain": [
       "<Figure size 1000x500 with 1 Axes>"
      ]
     },
     "metadata": {},
     "output_type": "display_data"
    }
   ],
   "source": [
    "import pandas as pd\n",
    "plt.figure(figsize=(10, 5))\n",
    "pd.Series(pre_task_accuracies).plot.kde(label='baseline')\n",
    "pd.Series(task_accuracies).plot.kde(label='beta = 2.5')\n",
    "\n",
    "plt.legend()"
   ]
  },
  {
   "cell_type": "code",
   "execution_count": 24,
   "id": "a2cf1c06",
   "metadata": {},
   "outputs": [
    {
     "data": {
      "image/png": "[encoded data removed]",
      "text/plain": [
       "<Figure size 800x500 with 1 Axes>"
      ]
     },
     "metadata": {},
     "output_type": "display_data"
    }
   ],
   "source": [
    "import matplotlib.pyplot as plt\n",
    "\n",
    "plt.figure(figsize=(8, 5))\n",
    "\n",
    "# ── use identical bin edges so the bars line up ──\n",
    "bins = np.linspace(0, 100, 50)              # 0 – 1 in 5-point steps\n",
    "\n",
    "plt.hist(pre_task_accuracies, bins=bins,\n",
    "         alpha=0.6, density=True,\n",
    "         label='Before fine-tune')\n",
    "\n",
    "plt.hist(task_accuracies,     bins=bins,\n",
    "         alpha=0.6, density=True,\n",
    "         label='After fine-tune')\n",
    "\n",
    "# ── mark the means ──\n",
    "plt.axvline(np.mean(pre_task_accuracies),  linestyle='--', linewidth=1,\n",
    "            label=f\"Mean before: {np.mean(pre_task_accuracies):.2f}\")\n",
    "plt.axvline(np.mean(task_accuracies),      linestyle='--', linewidth=1,\n",
    "            label=f\"Mean after:  {np.mean(task_accuracies):.2f}\")\n",
    "\n",
    "plt.xlabel('Accuracy')\n",
    "plt.ylabel('Density')\n",
    "plt.title('Task-wise accuracy before and after linear probe')\n",
    "plt.legend()\n",
    "plt.tight_layout()\n",
    "plt.show()"
   ]
  },
  {
   "cell_type": "code",
   "execution_count": null,
   "id": "5596e1ca",
   "metadata": {},
   "outputs": [],
   "source": []
  },
  {
   "cell_type": "code",
   "execution_count": null,
   "id": "929a2155",
   "metadata": {},
   "outputs": [],
   "source": []
  }
 ],
 "metadata": {
  "kernelspec": {
   "display_name": "base",
   "language": "python",
   "name": "python3"
  },
  "language_info": {
   "codemirror_mode": {
    "name": "ipython",
    "version": 3
   },
   "file_extension": ".py",
   "mimetype": "text/x-python",
   "name": "python",
   "nbconvert_exporter": "python",
   "pygments_lexer": "ipython3",
   "version": "3.12.7"
  }
 },
 "nbformat": 4,
 "nbformat_minor": 5
}
