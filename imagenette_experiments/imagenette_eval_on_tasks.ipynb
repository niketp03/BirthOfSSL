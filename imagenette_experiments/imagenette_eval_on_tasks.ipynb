{
 "cells": [
  {
   "cell_type": "code",
   "execution_count": 2,
   "id": "01eaf6b4",
   "metadata": {},
   "outputs": [],
   "source": [
    "import torch\n",
    "from torchvision import transforms\n",
    "\n",
    "import torchvision.datasets as datasets\n",
    "# Using CIFAR-10 dataset\n",
    "from torchvision.datasets import CIFAR10\n",
    "from torch.utils.data import DataLoader\n",
    "\n",
    "from torchvision import models\n",
    "\n",
    "import numpy as np\n",
    "import matplotlib.pyplot as plt\n",
    "\n",
    "from einops import rearrange\n",
    "\n",
    "from tqdm.notebook import tqdm, trange\n",
    "import os\n",
    "from torchvision.datasets import ImageFolder\n",
    "import tarfile\n",
    "\n",
    "# Define the transformations\n",
    "transform = transforms.Compose([\n",
    "    transforms.Resize(160),               # resize to 160×160 for imagenette2-160\n",
    "    transforms.CenterCrop(160),\n",
    "    transforms.ToTensor(),\n",
    "    transforms.Normalize((0.5, 0.5, 0.5),\n",
    "                         (0.5, 0.5, 0.5)),\n",
    "])\n",
    "# Paths for the Imagenette dataset (assumes you want it under ./data/imagenette2-160/)\n",
    "imagenette_root = \"./data/imagenette2-160\"\n",
    "train_dir = os.path.join(imagenette_root, \"train\")\n",
    "val_dir   = os.path.join(imagenette_root, \"val\")\n",
    "\n",
    "# download & extract if not already present\n",
    "if not os.path.isdir(imagenette_root):\n",
    "    os.makedirs(os.path.dirname(imagenette_root), exist_ok=True)\n",
    "    url = \"https://s3.amazonaws.com/fast-ai-imageclas/imagenette2-160.tgz\"\n",
    "    archive_path = os.path.join(os.path.dirname(imagenette_root), \"imagenette2-160.tgz\")\n",
    "    if not os.path.exists(archive_path):\n",
    "        print(\"Downloading Imagenette dataset...\")\n",
    "        import urllib.request\n",
    "        urllib.request.urlretrieve(url, archive_path)\n",
    "    print(\"Extracting Imagenette dataset...\")\n",
    "    with tarfile.open(archive_path, \"r:gz\") as tar:\n",
    "        tar.extractall(path=os.path.dirname(imagenette_root))\n",
    "    print(\"Done.\")\n",
    "\n",
    "# Load the Imagenette dataset\n",
    "train_dataset = ImageFolder(train_dir, transform=transform)\n",
    "test_dataset  = ImageFolder(val_dir,   transform=transform)\n",
    "\n",
    "# Create data loaders\n",
    "train_loader = DataLoader(train_dataset, batch_size=64, shuffle=True)\n",
    "test_loader  = DataLoader(test_dataset,  batch_size=512, shuffle=False)"
   ]
  },
  {
   "cell_type": "code",
   "execution_count": 3,
   "id": "d3c3c535",
   "metadata": {},
   "outputs": [
    {
     "name": "stderr",
     "output_type": "stream",
     "text": [
      "/opt/anaconda3/lib/python3.12/site-packages/torchvision/models/_utils.py:208: UserWarning: The parameter 'pretrained' is deprecated since 0.13 and may be removed in the future, please use 'weights' instead.\n",
      "  warnings.warn(\n",
      "/opt/anaconda3/lib/python3.12/site-packages/torchvision/models/_utils.py:223: UserWarning: Arguments other than a weight enum or `None` for 'weights' are deprecated since 0.13 and may be removed in the future. The current behavior is equivalent to passing `weights=ResNet50_Weights.IMAGENET1K_V1`. You can also use `weights=ResNet50_Weights.DEFAULT` to get the most up-to-date weights.\n",
      "  warnings.warn(msg)\n"
     ]
    }
   ],
   "source": [
    "resnet_pretrained = models.resnet50(pretrained=True)\n",
    "resnet_pretrained.fc = torch.nn.Identity()\n",
    "\n",
    "resnet_pretrained_frozen = models.resnet50(pretrained=True)\n",
    "resnet_pretrained_frozen.fc = torch.nn.Identity()\n",
    "\n",
    "#load prior tasks\n",
    "labels_list = np.load('labels_list_imagenette_1.npy')"
   ]
  },
  {
   "cell_type": "code",
   "execution_count": 4,
   "id": "0d5a1b9c",
   "metadata": {},
   "outputs": [
    {
     "data": {
      "application/vnd.jupyter.widget-view+json": {
       "model_id": "7e5ee84fba7d46c49fd663d2aa5c180f",
       "version_major": 2,
       "version_minor": 0
      },
      "text/plain": [
       "  0%|          | 0/30 [00:00<?, ?it/s]"
      ]
     },
     "metadata": {},
     "output_type": "display_data"
    },
    {
     "name": "stderr",
     "output_type": "stream",
     "text": [
      "/tmp/ipykernel_110936/2703761593.py:41: FutureWarning: `torch.cuda.amp.autocast(args...)` is deprecated. Please use `torch.amp.autocast('cuda', args...)` instead.\n",
      "  with torch.cuda.amp.autocast():        # mixed precision, optional\n"
     ]
    },
    {
     "name": "stdout",
     "output_type": "stream",
     "text": [
      "Epoch 1: loss = 1.9752\n",
      "Epoch 2: loss = 1.1820\n",
      "Epoch 3: loss = 1.1743\n",
      "Epoch 4: loss = 0.7158\n",
      "Epoch 5: loss = 0.7031\n",
      "Epoch 6: loss = 0.6229\n",
      "Epoch 7: loss = 0.5906\n",
      "Epoch 8: loss = 0.5252\n",
      "Epoch 9: loss = 0.5080\n",
      "Epoch 10: loss = 0.4892\n",
      "Epoch 11: loss = 0.5268\n",
      "Epoch 12: loss = 0.5884\n",
      "Epoch 13: loss = 0.7207\n",
      "Epoch 14: loss = 0.8511\n",
      "Epoch 15: loss = 0.9048\n",
      "Epoch 16: loss = 0.8571\n",
      "Epoch 17: loss = 0.7955\n",
      "Epoch 18: loss = 0.7426\n",
      "Epoch 19: loss = 0.6879\n",
      "Epoch 20: loss = 0.6662\n",
      "Epoch 21: loss = 0.6447\n",
      "Epoch 22: loss = 0.6529\n",
      "Epoch 23: loss = 0.6759\n",
      "Epoch 24: loss = 0.7220\n",
      "Epoch 25: loss = 0.7671\n",
      "Epoch 26: loss = 0.7709\n",
      "Epoch 27: loss = 0.7688\n",
      "Epoch 28: loss = 0.7388\n",
      "Epoch 29: loss = 0.6976\n",
      "Epoch 30: loss = 0.6854\n",
      "Mean accuracy over 256 tasks: 78.26%\n"
     ]
    }
   ],
   "source": [
    "# ── 1. Build a “multi-label” view of the data ──────────────────────────────────\n",
    "labels_matrix = np.stack(labels_list)          # (100, N)\n",
    "labels_matrix = torch.from_numpy(labels_matrix).float()  # to tensor\n",
    "\n",
    "class MultiTaskWrapper(torch.utils.data.Dataset):\n",
    "    def __init__(self, base_ds, all_labels):\n",
    "        self.base_ds   = base_ds               # the dataset behind your test_loader\n",
    "        self.all_lbls  = all_labels            # (100, N)\n",
    "    def __len__(self): return len(self.base_ds)\n",
    "    def __getitem__(self, idx):\n",
    "        img, _    = self.base_ds[idx]\n",
    "        lbl_vec   = self.all_lbls[:, idx]      # (100,)\n",
    "        return img, lbl_vec\n",
    "\n",
    "multi_ds     = MultiTaskWrapper(test_loader.dataset, labels_matrix)\n",
    "multi_loader = torch.utils.data.DataLoader(multi_ds,\n",
    "                                           batch_size=test_loader.batch_size,\n",
    "                                           shuffle=False,\n",
    "                                           num_workers=test_loader.num_workers,\n",
    "                                           pin_memory=True)\n",
    "\n",
    "# ── 2. Multi-task linear probe ─────────────────────────────────────────────────\n",
    "def linear_probe_multi(model, loader, n_epoch=1):\n",
    "    feat_dim   = 2048              # resnet head size\n",
    "    n_tasks    = 256\n",
    "    model.eval().cuda()\n",
    "\n",
    "    head = torch.nn.Linear(feat_dim, n_tasks).cuda()\n",
    "    crit = torch.nn.BCEWithLogitsLoss()\n",
    "    opt  = torch.optim.Adam(head.parameters(), lr=1e-2)\n",
    "\n",
    "    for epoch in trange(n_epoch):\n",
    "        runloss = 0.\n",
    "        for imgs, lbls in loader:                  # lbls → (B, 100)\n",
    "            imgs  = torch.nn.functional.interpolate(\n",
    "                        imgs, size=(224,224), mode='bilinear', align_corners=False\n",
    "                    ).cuda(non_blocking=True)\n",
    "            lbls  = lbls.cuda(non_blocking=True)\n",
    "\n",
    "            opt.zero_grad(set_to_none=True)\n",
    "            with torch.cuda.amp.autocast():        # mixed precision, optional\n",
    "                feats   = model(imgs)              # (B, 1000)\n",
    "                logits  = head(feats)              # (B, n_tasks)\n",
    "                loss    = crit(logits, lbls)\n",
    "            loss.backward()\n",
    "            opt.step()\n",
    "            runloss += loss.item()\n",
    "\n",
    "        print(f'Epoch {epoch+1}: loss = {runloss/len(loader):.4f}')\n",
    "\n",
    "    # ─ Evaluation per task ─\n",
    "    correct = torch.zeros(n_tasks, device='cuda')\n",
    "    total   = torch.zeros(n_tasks, device='cuda')\n",
    "\n",
    "    with torch.no_grad():\n",
    "        for imgs, lbls in loader:\n",
    "            imgs  = torch.nn.functional.interpolate(\n",
    "                        imgs, size=(224,224), mode='bilinear', align_corners=False\n",
    "                    ).cuda(non_blocking=True)\n",
    "            lbls  = lbls.cuda(non_blocking=True)\n",
    "\n",
    "            preds   = (head(model(imgs)) > 0).float()\n",
    "            correct += (preds == lbls).sum(dim=0)\n",
    "            total   += lbls.size(0)\n",
    "\n",
    "    acc = (100*correct/total).cpu().numpy()        # shape (100,)\n",
    "    print(f'Mean accuracy over 256 tasks: {acc.mean():.2f}%')\n",
    "    return acc\n",
    "\n",
    "# ── 3. Run it ──────────────────────────────────────────────────────────────────\n",
    "pre_task_accuracies = linear_probe_multi(resnet_pretrained, multi_loader, n_epoch=30)\n"
   ]
  },
  {
   "cell_type": "code",
   "execution_count": 5,
   "id": "b7ece696",
   "metadata": {},
   "outputs": [
    {
     "data": {
      "text/plain": [
       "(array([ 2.,  2.,  2.,  2.,  3.,  3.,  5.,  6.,  4.,  4.,  4., 10., 16.,\n",
       "        14., 20., 28., 43., 46., 27., 15.]),\n",
       " array([55.69426727, 57.22929764, 58.76433182, 60.29936218, 61.83439636,\n",
       "        63.36942673, 64.90445709, 66.43949127, 67.97452545, 69.509552  ,\n",
       "        71.04458618, 72.57962036, 74.11464691, 75.64968109, 77.18471527,\n",
       "        78.71974182, 80.254776  , 81.78981018, 83.32484436, 84.85987091,\n",
       "        86.39490509]),\n",
       " <BarContainer object of 20 artists>)"
      ]
     },
     "execution_count": 5,
     "metadata": {},
     "output_type": "execute_result"
    },
    {
     "data": {
      "image/png": "[encoded data removed]",
      "text/plain": [
       "<Figure size 640x480 with 1 Axes>"
      ]
     },
     "metadata": {},
     "output_type": "display_data"
    }
   ],
   "source": [
    "plt.hist(pre_task_accuracies, bins=20)"
   ]
  },
  {
   "cell_type": "code",
   "execution_count": 6,
   "id": "9f987dee",
   "metadata": {},
   "outputs": [
    {
     "data": {
      "text/plain": [
       "array([64.10191 , 75.51592 , 82.191086, 84.05096 , 81.98726 , 69.85987 ,\n",
       "       82.72611 , 83.84714 , 77.63057 , 83.41401 , 79.388535, 77.27389 ,\n",
       "       79.69427 , 81.22293 , 80.48408 , 77.605095, 83.36306 , 76.891716,\n",
       "       78.26752 , 61.401276, 74.598724, 70.038216, 80.84077 , 79.66879 ,\n",
       "       69.8344  , 83.13376 , 82.1656  , 82.242035, 75.388535, 81.12102 ,\n",
       "       83.21019 , 82.394905, 83.592354, 83.3121  , 67.28662 , 76.50955 ,\n",
       "       78.77707 , 84.968155, 81.29936 , 83.592354, 74.675156, 56.229298,\n",
       "       75.13376 , 73.27389 , 78.62421 , 72.63694 , 70.52229 , 80.84077 ,\n",
       "       82.34395 , 82.44586 , 74.54777 , 83.23567 , 82.52229 , 75.49045 ,\n",
       "       83.94904 , 82.191086, 66.26752 , 81.324844, 80.15286 , 66.80255 ,\n",
       "       68.20382 , 76.178345, 62.853504, 83.821655, 68.73885 , 75.821655,\n",
       "       83.69427 , 83.94904 , 62.980892, 60.178345, 83.64331 , 66.038216,\n",
       "       81.961784, 65.52866 , 83.21019 , 78.64968 , 80.891716, 73.044586,\n",
       "       75.49045 , 77.91083 , 75.3121  , 83.66879 , 77.47771 , 72.76433 ,\n",
       "       61.68153 , 80.6879  , 62.496815, 81.248405, 79.89809 , 55.694267,\n",
       "       65.09554 , 81.42675 , 77.324844, 81.01911 , 58.34395 , 73.88535 ,\n",
       "       73.73248 , 85.605095, 80.407646, 76.71338 , 80.76433 , 80.815285,\n",
       "       82.955414, 72.20382 , 84.30573 , 81.22293 , 81.35032 , 80.58599 ,\n",
       "       79.28662 , 82.598724, 63.821655, 79.64331 , 83.592354, 80.71338 ,\n",
       "       79.00637 , 75.745224, 64.76433 , 72.86624 , 83.41401 , 79.108284,\n",
       "       80.94267 , 82.80255 , 85.07006 , 78.80255 , 78.598724, 81.22293 ,\n",
       "       66.92994 , 75.43949 , 79.33758 , 85.01911 , 85.044586, 79.26115 ,\n",
       "       78.955414, 67.745224, 58.496815, 79.21019 , 82.828026, 84.63694 ,\n",
       "       81.12102 , 80.99363 , 82.29299 , 82.675156, 80.58599 , 83.592354,\n",
       "       85.50318 , 81.171974, 82.11465 , 86.394905, 79.821655, 79.51592 ,\n",
       "       77.27389 , 82.49682 , 80.12739 , 79.49045 , 78.54777 , 79.464966,\n",
       "       84.05096 , 80.025475, 80.66242 , 71.92357 , 77.55414 , 79.33758 ,\n",
       "       85.12102 , 68.33121 , 82.87898 , 82.44586 , 77.47771 , 82.47134 ,\n",
       "       82.8535  , 78.11465 , 80.56051 , 73.681526, 82.08917 , 85.09554 ,\n",
       "       84.025475, 82.191086, 82.54777 , 85.50318 , 81.55414 , 84.6879  ,\n",
       "       81.29936 , 74.8535  , 82.42038 , 76.6879  , 80.30573 , 75.84714 ,\n",
       "       81.78344 , 77.65605 , 80.382164, 76.968155, 84.07643 , 81.50318 ,\n",
       "       82.70064 , 79.592354, 77.171974, 82.57325 , 82.77707 , 79.7707  ,\n",
       "       83.23567 , 77.85987 , 82.1656  , 82.955414, 83.15923 , 74.34395 ,\n",
       "       71.13376 , 79.15923 , 80.33121 , 80.58599 , 67.43949 , 59.5414  ,\n",
       "       86.14013 , 83.49045 , 73.961784, 80.2293  , 84.2293  , 74.92994 ,\n",
       "       71.13376 , 72.815285, 77.605095, 78.394905, 83.541405, 80.56051 ,\n",
       "       77.65605 , 76.35669 , 83.031845, 80.76433 , 79.0828  , 76.58599 ,\n",
       "       80.58599 , 81.52866 , 82.08917 , 82.47134 , 74.828026, 83.66879 ,\n",
       "       85.37579 , 78.828026, 75.41401 , 68.10191 , 74.26752 , 85.29936 ,\n",
       "       81.98726 , 84.94267 , 65.401276, 81.27389 , 67.94904 , 80.28026 ,\n",
       "       75.92357 , 83.87261 , 84.71338 , 85.8344  , 82.038216, 82.90446 ,\n",
       "       76.76433 , 81.98726 , 81.044586, 81.73248 ], dtype=float32)"
      ]
     },
     "execution_count": 6,
     "metadata": {},
     "output_type": "execute_result"
    }
   ],
   "source": [
    "pre_task_accuracies"
   ]
  },
  {
   "cell_type": "code",
   "execution_count": 5,
   "id": "a148dbe6",
   "metadata": {},
   "outputs": [],
   "source": [
    "def compute_expectation_variance(K, M, T=1.0):\n",
    "    if K.shape != M.shape:\n",
    "        raise ValueError(\"K and M must have the same shape.\")\n",
    "\n",
    "    sigma = torch.sigmoid(K / T)              # σ(K_{ij}/T)\n",
    "    expectation = (M * sigma).sum()           # Σ M σ\n",
    "    variance = ((M**2) * sigma * (1 - sigma)).sum()  # Σ M² σ(1−σ)\n",
    "\n",
    "    return expectation, variance  "
   ]
  },
  {
   "cell_type": "code",
   "execution_count": 20,
   "id": "4b617baf",
   "metadata": {},
   "outputs": [
    {
     "name": "stdout",
     "output_type": "stream",
     "text": [
      "Epoch 1, Loss: -720.4100, Expectation: 1499.2285, Variance: 311.5274\n",
      "Epoch 2, Loss: -723.0142, Expectation: 1492.4918, Variance: 307.7911\n",
      "Epoch 3, Loss: -725.2023, Expectation: 1488.2094, Variance: 305.2028\n",
      "Epoch 4, Loss: -725.9827, Expectation: 1484.5977, Variance: 303.4460\n",
      "Epoch 5, Loss: -726.6067, Expectation: 1483.8950, Variance: 302.9153\n",
      "Epoch 6, Loss: -727.2507, Expectation: 1482.6080, Variance: 302.1429\n",
      "Epoch 7, Loss: -727.5146, Expectation: 1481.3855, Variance: 301.5483\n",
      "Epoch 8, Loss: -727.5281, Expectation: 1481.1018, Variance: 301.4295\n",
      "Epoch 9, Loss: -727.8160, Expectation: 1480.7800, Variance: 301.1856\n",
      "Epoch 10, Loss: -728.0609, Expectation: 1480.6495, Variance: 301.0354\n",
      "Epoch 11, Loss: -728.3188, Expectation: 1480.7056, Variance: 300.9547\n",
      "Epoch 12, Loss: -728.2812, Expectation: 1479.7477, Variance: 300.5866\n",
      "Epoch 13, Loss: -728.5286, Expectation: 1479.8085, Variance: 300.5120\n",
      "Epoch 14, Loss: -728.5107, Expectation: 1479.6576, Variance: 300.4588\n",
      "Epoch 15, Loss: -728.5079, Expectation: 1479.4305, Variance: 300.3690\n",
      "Epoch 16, Loss: -728.6221, Expectation: 1479.8087, Variance: 300.4747\n",
      "Epoch 17, Loss: -728.7958, Expectation: 1479.9027, Variance: 300.4428\n",
      "Epoch 18, Loss: -728.7074, Expectation: 1479.2841, Variance: 300.2307\n"
     ]
    },
    {
     "ename": "KeyboardInterrupt",
     "evalue": "",
     "output_type": "error",
     "traceback": [
      "\u001b[0;31m---------------------------------------------------------------------------\u001b[0m",
      "\u001b[0;31mKeyboardInterrupt\u001b[0m                         Traceback (most recent call last)",
      "Cell \u001b[0;32mIn[20], line 20\u001b[0m\n\u001b[1;32m     17\u001b[0m running_var \u001b[38;5;241m=\u001b[39m \u001b[38;5;241m0.0\u001b[39m\n\u001b[1;32m     18\u001b[0m n \u001b[38;5;241m=\u001b[39m \u001b[38;5;241m0\u001b[39m\n\u001b[0;32m---> 20\u001b[0m \u001b[38;5;28;01mfor\u001b[39;00m images, labels \u001b[38;5;129;01min\u001b[39;00m train_loader:\n\u001b[1;32m     21\u001b[0m     images \u001b[38;5;241m=\u001b[39m torch\u001b[38;5;241m.\u001b[39mnn\u001b[38;5;241m.\u001b[39mfunctional\u001b[38;5;241m.\u001b[39minterpolate(images, size\u001b[38;5;241m=\u001b[39m(\u001b[38;5;241m224\u001b[39m, \u001b[38;5;241m224\u001b[39m), mode\u001b[38;5;241m=\u001b[39m\u001b[38;5;124m'\u001b[39m\u001b[38;5;124mbilinear\u001b[39m\u001b[38;5;124m'\u001b[39m, align_corners\u001b[38;5;241m=\u001b[39m\u001b[38;5;28;01mFalse\u001b[39;00m)\n\u001b[1;32m     22\u001b[0m     images \u001b[38;5;241m=\u001b[39m images\u001b[38;5;241m.\u001b[39mcuda()\n",
      "File \u001b[0;32m/opt/anaconda3/lib/python3.12/site-packages/torch/utils/data/dataloader.py:701\u001b[0m, in \u001b[0;36m_BaseDataLoaderIter.__next__\u001b[0;34m(self)\u001b[0m\n\u001b[1;32m    698\u001b[0m \u001b[38;5;28;01mif\u001b[39;00m \u001b[38;5;28mself\u001b[39m\u001b[38;5;241m.\u001b[39m_sampler_iter \u001b[38;5;129;01mis\u001b[39;00m \u001b[38;5;28;01mNone\u001b[39;00m:\n\u001b[1;32m    699\u001b[0m     \u001b[38;5;66;03m# TODO(https://github.com/pytorch/pytorch/issues/76750)\u001b[39;00m\n\u001b[1;32m    700\u001b[0m     \u001b[38;5;28mself\u001b[39m\u001b[38;5;241m.\u001b[39m_reset()  \u001b[38;5;66;03m# type: ignore[call-arg]\u001b[39;00m\n\u001b[0;32m--> 701\u001b[0m data \u001b[38;5;241m=\u001b[39m \u001b[38;5;28mself\u001b[39m\u001b[38;5;241m.\u001b[39m_next_data()\n\u001b[1;32m    702\u001b[0m \u001b[38;5;28mself\u001b[39m\u001b[38;5;241m.\u001b[39m_num_yielded \u001b[38;5;241m+\u001b[39m\u001b[38;5;241m=\u001b[39m \u001b[38;5;241m1\u001b[39m\n\u001b[1;32m    703\u001b[0m \u001b[38;5;28;01mif\u001b[39;00m (\n\u001b[1;32m    704\u001b[0m     \u001b[38;5;28mself\u001b[39m\u001b[38;5;241m.\u001b[39m_dataset_kind \u001b[38;5;241m==\u001b[39m _DatasetKind\u001b[38;5;241m.\u001b[39mIterable\n\u001b[1;32m    705\u001b[0m     \u001b[38;5;129;01mand\u001b[39;00m \u001b[38;5;28mself\u001b[39m\u001b[38;5;241m.\u001b[39m_IterableDataset_len_called \u001b[38;5;129;01mis\u001b[39;00m \u001b[38;5;129;01mnot\u001b[39;00m \u001b[38;5;28;01mNone\u001b[39;00m\n\u001b[1;32m    706\u001b[0m     \u001b[38;5;129;01mand\u001b[39;00m \u001b[38;5;28mself\u001b[39m\u001b[38;5;241m.\u001b[39m_num_yielded \u001b[38;5;241m>\u001b[39m \u001b[38;5;28mself\u001b[39m\u001b[38;5;241m.\u001b[39m_IterableDataset_len_called\n\u001b[1;32m    707\u001b[0m ):\n",
      "File \u001b[0;32m/opt/anaconda3/lib/python3.12/site-packages/torch/utils/data/dataloader.py:757\u001b[0m, in \u001b[0;36m_SingleProcessDataLoaderIter._next_data\u001b[0;34m(self)\u001b[0m\n\u001b[1;32m    755\u001b[0m \u001b[38;5;28;01mdef\u001b[39;00m \u001b[38;5;21m_next_data\u001b[39m(\u001b[38;5;28mself\u001b[39m):\n\u001b[1;32m    756\u001b[0m     index \u001b[38;5;241m=\u001b[39m \u001b[38;5;28mself\u001b[39m\u001b[38;5;241m.\u001b[39m_next_index()  \u001b[38;5;66;03m# may raise StopIteration\u001b[39;00m\n\u001b[0;32m--> 757\u001b[0m     data \u001b[38;5;241m=\u001b[39m \u001b[38;5;28mself\u001b[39m\u001b[38;5;241m.\u001b[39m_dataset_fetcher\u001b[38;5;241m.\u001b[39mfetch(index)  \u001b[38;5;66;03m# may raise StopIteration\u001b[39;00m\n\u001b[1;32m    758\u001b[0m     \u001b[38;5;28;01mif\u001b[39;00m \u001b[38;5;28mself\u001b[39m\u001b[38;5;241m.\u001b[39m_pin_memory:\n\u001b[1;32m    759\u001b[0m         data \u001b[38;5;241m=\u001b[39m _utils\u001b[38;5;241m.\u001b[39mpin_memory\u001b[38;5;241m.\u001b[39mpin_memory(data, \u001b[38;5;28mself\u001b[39m\u001b[38;5;241m.\u001b[39m_pin_memory_device)\n",
      "File \u001b[0;32m/opt/anaconda3/lib/python3.12/site-packages/torch/utils/data/_utils/fetch.py:52\u001b[0m, in \u001b[0;36m_MapDatasetFetcher.fetch\u001b[0;34m(self, possibly_batched_index)\u001b[0m\n\u001b[1;32m     50\u001b[0m         data \u001b[38;5;241m=\u001b[39m \u001b[38;5;28mself\u001b[39m\u001b[38;5;241m.\u001b[39mdataset\u001b[38;5;241m.\u001b[39m__getitems__(possibly_batched_index)\n\u001b[1;32m     51\u001b[0m     \u001b[38;5;28;01melse\u001b[39;00m:\n\u001b[0;32m---> 52\u001b[0m         data \u001b[38;5;241m=\u001b[39m [\u001b[38;5;28mself\u001b[39m\u001b[38;5;241m.\u001b[39mdataset[idx] \u001b[38;5;28;01mfor\u001b[39;00m idx \u001b[38;5;129;01min\u001b[39;00m possibly_batched_index]\n\u001b[1;32m     53\u001b[0m \u001b[38;5;28;01melse\u001b[39;00m:\n\u001b[1;32m     54\u001b[0m     data \u001b[38;5;241m=\u001b[39m \u001b[38;5;28mself\u001b[39m\u001b[38;5;241m.\u001b[39mdataset[possibly_batched_index]\n",
      "File \u001b[0;32m/opt/anaconda3/lib/python3.12/site-packages/torchvision/datasets/folder.py:245\u001b[0m, in \u001b[0;36mDatasetFolder.__getitem__\u001b[0;34m(self, index)\u001b[0m\n\u001b[1;32m    237\u001b[0m \u001b[38;5;250m\u001b[39m\u001b[38;5;124;03m\"\"\"\u001b[39;00m\n\u001b[1;32m    238\u001b[0m \u001b[38;5;124;03mArgs:\u001b[39;00m\n\u001b[1;32m    239\u001b[0m \u001b[38;5;124;03m    index (int): Index\u001b[39;00m\n\u001b[0;32m   (...)\u001b[0m\n\u001b[1;32m    242\u001b[0m \u001b[38;5;124;03m    tuple: (sample, target) where target is class_index of the target class.\u001b[39;00m\n\u001b[1;32m    243\u001b[0m \u001b[38;5;124;03m\"\"\"\u001b[39;00m\n\u001b[1;32m    244\u001b[0m path, target \u001b[38;5;241m=\u001b[39m \u001b[38;5;28mself\u001b[39m\u001b[38;5;241m.\u001b[39msamples[index]\n\u001b[0;32m--> 245\u001b[0m sample \u001b[38;5;241m=\u001b[39m \u001b[38;5;28mself\u001b[39m\u001b[38;5;241m.\u001b[39mloader(path)\n\u001b[1;32m    246\u001b[0m \u001b[38;5;28;01mif\u001b[39;00m \u001b[38;5;28mself\u001b[39m\u001b[38;5;241m.\u001b[39mtransform \u001b[38;5;129;01mis\u001b[39;00m \u001b[38;5;129;01mnot\u001b[39;00m \u001b[38;5;28;01mNone\u001b[39;00m:\n\u001b[1;32m    247\u001b[0m     sample \u001b[38;5;241m=\u001b[39m \u001b[38;5;28mself\u001b[39m\u001b[38;5;241m.\u001b[39mtransform(sample)\n",
      "File \u001b[0;32m/opt/anaconda3/lib/python3.12/site-packages/torchvision/datasets/folder.py:284\u001b[0m, in \u001b[0;36mdefault_loader\u001b[0;34m(path)\u001b[0m\n\u001b[1;32m    282\u001b[0m     \u001b[38;5;28;01mreturn\u001b[39;00m accimage_loader(path)\n\u001b[1;32m    283\u001b[0m \u001b[38;5;28;01melse\u001b[39;00m:\n\u001b[0;32m--> 284\u001b[0m     \u001b[38;5;28;01mreturn\u001b[39;00m pil_loader(path)\n",
      "File \u001b[0;32m/opt/anaconda3/lib/python3.12/site-packages/torchvision/datasets/folder.py:264\u001b[0m, in \u001b[0;36mpil_loader\u001b[0;34m(path)\u001b[0m\n\u001b[1;32m    262\u001b[0m \u001b[38;5;28;01mwith\u001b[39;00m \u001b[38;5;28mopen\u001b[39m(path, \u001b[38;5;124m\"\u001b[39m\u001b[38;5;124mrb\u001b[39m\u001b[38;5;124m\"\u001b[39m) \u001b[38;5;28;01mas\u001b[39;00m f:\n\u001b[1;32m    263\u001b[0m     img \u001b[38;5;241m=\u001b[39m Image\u001b[38;5;241m.\u001b[39mopen(f)\n\u001b[0;32m--> 264\u001b[0m     \u001b[38;5;28;01mreturn\u001b[39;00m img\u001b[38;5;241m.\u001b[39mconvert(\u001b[38;5;124m\"\u001b[39m\u001b[38;5;124mRGB\u001b[39m\u001b[38;5;124m\"\u001b[39m)\n",
      "File \u001b[0;32m/opt/anaconda3/lib/python3.12/site-packages/PIL/Image.py:995\u001b[0m, in \u001b[0;36mImage.convert\u001b[0;34m(self, mode, matrix, dither, palette, colors)\u001b[0m\n\u001b[1;32m    992\u001b[0m \u001b[38;5;28;01mif\u001b[39;00m mode \u001b[38;5;129;01min\u001b[39;00m (\u001b[38;5;124m\"\u001b[39m\u001b[38;5;124mBGR;15\u001b[39m\u001b[38;5;124m\"\u001b[39m, \u001b[38;5;124m\"\u001b[39m\u001b[38;5;124mBGR;16\u001b[39m\u001b[38;5;124m\"\u001b[39m, \u001b[38;5;124m\"\u001b[39m\u001b[38;5;124mBGR;24\u001b[39m\u001b[38;5;124m\"\u001b[39m):\n\u001b[1;32m    993\u001b[0m     deprecate(mode, \u001b[38;5;241m12\u001b[39m)\n\u001b[0;32m--> 995\u001b[0m \u001b[38;5;28mself\u001b[39m\u001b[38;5;241m.\u001b[39mload()\n\u001b[1;32m    997\u001b[0m has_transparency \u001b[38;5;241m=\u001b[39m \u001b[38;5;124m\"\u001b[39m\u001b[38;5;124mtransparency\u001b[39m\u001b[38;5;124m\"\u001b[39m \u001b[38;5;129;01min\u001b[39;00m \u001b[38;5;28mself\u001b[39m\u001b[38;5;241m.\u001b[39minfo\n\u001b[1;32m    998\u001b[0m \u001b[38;5;28;01mif\u001b[39;00m \u001b[38;5;129;01mnot\u001b[39;00m mode \u001b[38;5;129;01mand\u001b[39;00m \u001b[38;5;28mself\u001b[39m\u001b[38;5;241m.\u001b[39mmode \u001b[38;5;241m==\u001b[39m \u001b[38;5;124m\"\u001b[39m\u001b[38;5;124mP\u001b[39m\u001b[38;5;124m\"\u001b[39m:\n\u001b[1;32m    999\u001b[0m     \u001b[38;5;66;03m# determine default mode\u001b[39;00m\n",
      "File \u001b[0;32m/opt/anaconda3/lib/python3.12/site-packages/PIL/ImageFile.py:293\u001b[0m, in \u001b[0;36mImageFile.load\u001b[0;34m(self)\u001b[0m\n\u001b[1;32m    290\u001b[0m         \u001b[38;5;28;01mraise\u001b[39;00m \u001b[38;5;167;01mOSError\u001b[39;00m(msg)\n\u001b[1;32m    292\u001b[0m b \u001b[38;5;241m=\u001b[39m b \u001b[38;5;241m+\u001b[39m s\n\u001b[0;32m--> 293\u001b[0m n, err_code \u001b[38;5;241m=\u001b[39m decoder\u001b[38;5;241m.\u001b[39mdecode(b)\n\u001b[1;32m    294\u001b[0m \u001b[38;5;28;01mif\u001b[39;00m n \u001b[38;5;241m<\u001b[39m \u001b[38;5;241m0\u001b[39m:\n\u001b[1;32m    295\u001b[0m     \u001b[38;5;28;01mbreak\u001b[39;00m\n",
      "\u001b[0;31mKeyboardInterrupt\u001b[0m: "
     ]
    }
   ],
   "source": [
    "beta = 2.5\n",
    "T = 1\n",
    "\n",
    "n_epoch = 30\n",
    "\n",
    "resnet_pretrained.train()\n",
    "resnet_pretrained_frozen.eval()\n",
    "\n",
    "optimizer = torch.optim.Adam(resnet_pretrained.parameters(), lr=0.001)\n",
    "\n",
    "resnet_pretrained.cuda()\n",
    "resnet_pretrained_frozen.cuda()\n",
    "\n",
    "for epoch in range(n_epoch):  \n",
    "    running_loss = 0.0\n",
    "    running_exp = 0.0\n",
    "    running_var = 0.0\n",
    "    n = 0\n",
    "\n",
    "    for images, labels in train_loader:\n",
    "        images = torch.nn.functional.interpolate(images, size=(224, 224), mode='bilinear', align_corners=False)\n",
    "        images = images.cuda()\n",
    "\n",
    "        with torch.no_grad():\n",
    "            outputs = resnet_pretrained_frozen(images)\n",
    "\n",
    "            norm_outputs = outputs / outputs.norm(dim=1, keepdim=True)\n",
    "            K = norm_outputs @ norm_outputs.T\n",
    "            \n",
    "        outputs = resnet_pretrained(images)\n",
    "\n",
    "        norm_outputs = outputs / outputs.norm(dim=1, keepdim=True)\n",
    "        M = norm_outputs @ norm_outputs.T\n",
    "\n",
    "        exp, var = compute_expectation_variance(K, M, T)\n",
    "\n",
    "        loss = beta * var -  exp\n",
    "\n",
    "        optimizer.zero_grad()\n",
    "        loss.backward()\n",
    "        optimizer.step()\n",
    "        \n",
    "        # Print statistics  \n",
    "\n",
    "        running_loss += loss.item()\n",
    "        running_exp += exp.item()\n",
    "        running_var += var.item()\n",
    "\n",
    "        n += 1\n",
    "\n",
    "    print(f'Epoch {epoch+1}, Loss: {running_loss/n:.4f}, Expectation: {running_exp/n:.4f}, Variance: {running_var/n:.4f}')"
   ]
  },
  {
   "cell_type": "code",
   "execution_count": 7,
   "id": "8443ee65",
   "metadata": {},
   "outputs": [
    {
     "name": "stdout",
     "output_type": "stream",
     "text": [
      "Model state_dict saved to resnet_pretrained_finetuned_20250507_210810.pth at 20250507_210810\n"
     ]
    }
   ],
   "source": [
    "from datetime import datetime\n",
    "\n",
    "# Save the fine-tuned ResNet backbone with a timestamp\n",
    "timestamp = datetime.now().strftime(\"%Y%m%d_%H%M%S\")\n",
    "filename = f\"resnet_pretrained_finetuned_{timestamp}.pth\"\n",
    "torch.save(resnet_pretrained.state_dict(), filename)\n",
    "print(f\"Model state_dict saved to {filename} at {timestamp}\")"
   ]
  },
  {
   "cell_type": "code",
   "execution_count": 21,
   "id": "71bf6ffe",
   "metadata": {},
   "outputs": [
    {
     "data": {
      "application/vnd.jupyter.widget-view+json": {
       "model_id": "8026d5b963e547a98cadd28bb2f68a7d",
       "version_major": 2,
       "version_minor": 0
      },
      "text/plain": [
       "  0%|          | 0/30 [00:00<?, ?it/s]"
      ]
     },
     "metadata": {},
     "output_type": "display_data"
    },
    {
     "name": "stderr",
     "output_type": "stream",
     "text": [
      "/tmp/ipykernel_92651/2703761593.py:41: FutureWarning: `torch.cuda.amp.autocast(args...)` is deprecated. Please use `torch.amp.autocast('cuda', args...)` instead.\n",
      "  with torch.cuda.amp.autocast():        # mixed precision, optional\n"
     ]
    },
    {
     "name": "stdout",
     "output_type": "stream",
     "text": [
      "Epoch 1: loss = 1.3618\n",
      "Epoch 2: loss = 0.9724\n",
      "Epoch 3: loss = 0.8950\n",
      "Epoch 4: loss = 0.6560\n",
      "Epoch 5: loss = 0.6302\n",
      "Epoch 6: loss = 0.5640\n",
      "Epoch 7: loss = 0.5634\n",
      "Epoch 8: loss = 0.5321\n",
      "Epoch 9: loss = 0.5304\n",
      "Epoch 10: loss = 0.5178\n",
      "Epoch 11: loss = 0.5165\n",
      "Epoch 12: loss = 0.5193\n",
      "Epoch 13: loss = 0.5274\n",
      "Epoch 14: loss = 0.5366\n",
      "Epoch 15: loss = 0.5426\n",
      "Epoch 16: loss = 0.5438\n",
      "Epoch 17: loss = 0.5517\n",
      "Epoch 18: loss = 0.5584\n",
      "Epoch 19: loss = 0.5603\n",
      "Epoch 20: loss = 0.5561\n",
      "Epoch 21: loss = 0.5441\n",
      "Epoch 22: loss = 0.5447\n",
      "Epoch 23: loss = 0.5458\n",
      "Epoch 24: loss = 0.5525\n",
      "Epoch 25: loss = 0.5569\n",
      "Epoch 26: loss = 0.5606\n",
      "Epoch 27: loss = 0.5596\n",
      "Epoch 28: loss = 0.5562\n",
      "Epoch 29: loss = 0.5520\n",
      "Epoch 30: loss = 0.5589\n",
      "Mean accuracy over 256 tasks: 77.59%\n"
     ]
    }
   ],
   "source": [
    "task_accuracies = linear_probe_multi(resnet_pretrained, multi_loader, n_epoch=30)"
   ]
  },
  {
   "cell_type": "code",
   "execution_count": 22,
   "id": "a7dc44df",
   "metadata": {},
   "outputs": [
    {
     "name": "stdout",
     "output_type": "stream",
     "text": [
      "Variance before: 34.394126892089844\n",
      "Variance after: 12.694658279418945\n"
     ]
    }
   ],
   "source": [
    "variance = np.var(task_accuracies)\n",
    "old_var = np.var(pre_task_accuracies)\n",
    "print(f\"Variance before: {old_var}\")\n",
    "print(f\"Variance after: {variance}\")"
   ]
  },
  {
   "cell_type": "code",
   "execution_count": 25,
   "id": "53a4260d",
   "metadata": {},
   "outputs": [
    {
     "data": {
      "text/plain": [
       "<matplotlib.legend.Legend at 0x7b479c72b410>"
      ]
     },
     "execution_count": 25,
     "metadata": {},
     "output_type": "execute_result"
    },
    {
     "data": {
      "image/png": "[encoded data removed]",
      "text/plain": [
       "<Figure size 1000x500 with 1 Axes>"
      ]
     },
     "metadata": {},
     "output_type": "display_data"
    }
   ],
   "source": [
    "import pandas as pd\n",
    "plt.figure(figsize=(10, 5))\n",
    "pd.Series(pre_task_accuracies).plot.kde(label='baseline')\n",
    "pd.Series(task_accuracies).plot.kde(label='beta = 2.5')\n",
    "\n",
    "plt.legend()"
   ]
  },
  {
   "cell_type": "code",
   "execution_count": 24,
   "id": "a2cf1c06",
   "metadata": {},
   "outputs": [
    {
     "data": {
      "image/png": "[encoded data removed]",
      "text/plain": [
       "<Figure size 800x500 with 1 Axes>"
      ]
     },
     "metadata": {},
     "output_type": "display_data"
    }
   ],
   "source": [
    "import matplotlib.pyplot as plt\n",
    "\n",
    "plt.figure(figsize=(8, 5))\n",
    "\n",
    "# ── use identical bin edges so the bars line up ──\n",
    "bins = np.linspace(0, 100, 50)              # 0 – 1 in 5-point steps\n",
    "\n",
    "plt.hist(pre_task_accuracies, bins=bins,\n",
    "         alpha=0.6, density=True,\n",
    "         label='Before fine-tune')\n",
    "\n",
    "plt.hist(task_accuracies,     bins=bins,\n",
    "         alpha=0.6, density=True,\n",
    "         label='After fine-tune')\n",
    "\n",
    "# ── mark the means ──\n",
    "plt.axvline(np.mean(pre_task_accuracies),  linestyle='--', linewidth=1,\n",
    "            label=f\"Mean before: {np.mean(pre_task_accuracies):.2f}\")\n",
    "plt.axvline(np.mean(task_accuracies),      linestyle='--', linewidth=1,\n",
    "            label=f\"Mean after:  {np.mean(task_accuracies):.2f}\")\n",
    "\n",
    "plt.xlabel('Accuracy')\n",
    "plt.ylabel('Density')\n",
    "plt.title('Task-wise accuracy before and after linear probe')\n",
    "plt.legend()\n",
    "plt.tight_layout()\n",
    "plt.show()"
   ]
  },
  {
   "cell_type": "code",
   "execution_count": null,
   "id": "5596e1ca",
   "metadata": {},
   "outputs": [],
   "source": []
  },
  {
   "cell_type": "code",
   "execution_count": null,
   "id": "929a2155",
   "metadata": {},
   "outputs": [],
   "source": []
  }
 ],
 "metadata": {
  "kernelspec": {
   "display_name": "base",
   "language": "python",
   "name": "python3"
  },
  "language_info": {
   "codemirror_mode": {
    "name": "ipython",
    "version": 3
   },
   "file_extension": ".py",
   "mimetype": "text/x-python",
   "name": "python",
   "nbconvert_exporter": "python",
   "pygments_lexer": "ipython3",
   "version": "3.12.7"
  }
 },
 "nbformat": 4,
 "nbformat_minor": 5
}
