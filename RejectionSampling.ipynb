{
 "cells": [
  {
   "cell_type": "code",
   "execution_count": 1,
   "metadata": {},
   "outputs": [],
   "source": [
    "import numpy as np\n",
    "from tqdm import trange\n",
    "import matplotlib.pyplot as plt"
   ]
  },
  {
   "cell_type": "code",
   "execution_count": 2,
   "metadata": {},
   "outputs": [],
   "source": [
    "#Test on generic data:\n",
    "n = 300\n",
    "d = 2\n",
    "\n",
    "# Create a mixture of 2 Gaussians\n",
    "mean1 = np.array([10, 10])\n",
    "mean2 = np.array([-10, -10])\n",
    "cov = np.array([[1, 0], [0, 1]])\n",
    "\n",
    "data1 = np.random.multivariate_normal(mean1, cov, n // 2)\n",
    "data2 = np.random.multivariate_normal(mean2, cov, n // 2)\n",
    "\n",
    "data = np.vstack((data1, data2))\n",
    "\n",
    "#Gaussian kernel\n",
    "def k(x_i, x_j):\n",
    "    return np.exp(-np.linalg.norm(x_i - x_j)**2)*100\n",
    "\n",
    "def compute_kernel_matrix(data, k):\n",
    "    n = len(data)\n",
    "    K = np.zeros((n, n))\n",
    "    for i in range(n):\n",
    "        for j in range(n):\n",
    "            K[i, j] = k(data[i], data[j])\n",
    "            \n",
    "    return K\n",
    "\n",
    "#K = compute_kernel_matrix(data, k)\n",
    "#K = block matrix 1 top left 1 bottom right 0 everywhere else\n",
    "K = np.zeros((n, n))\n",
    "K[:n//2, :n//2] = 1\n",
    "K[n//2:, n//2:] = 1"
   ]
  },
  {
   "cell_type": "code",
   "execution_count": 3,
   "metadata": {},
   "outputs": [
    {
     "data": {
      "text/plain": [
       "<matplotlib.image.AxesImage at 0x7c6712b27080>"
      ]
     },
     "execution_count": 3,
     "metadata": {},
     "output_type": "execute_result"
    },
    {
     "data": {
      "image/png": "[encoded data removed]",
      "text/plain": [
       "<Figure size 640x480 with 1 Axes>"
      ]
     },
     "metadata": {},
     "output_type": "display_data"
    },
    {
     "data": {
      "image/png": "[encoded data removed]",
      "text/plain": [
       "<Figure size 640x480 with 1 Axes>"
      ]
     },
     "metadata": {},
     "output_type": "display_data"
    }
   ],
   "source": [
    "#plot data in r^2 space\n",
    "plt.scatter(data[:, 0], data[:, 1])\n",
    "#plot kernel matrix\n",
    "plt.figure()\n",
    "plt.imshow(K)\n"
   ]
  },
  {
   "cell_type": "markdown",
   "metadata": {},
   "source": [
    "We want to sample from the distribution\n",
    "\n",
    "$$ \\mu_K (Y) = \\frac{1}{Z_K} Tr(Y^\\top Y K) $$\n",
    "\n",
    "Where we know that, \n",
    "\n",
    "$$\n",
    "Z_K = Tr(G K) \n",
    "$$\n",
    "\n",
    "and \n",
    "\n",
    "$$\n",
    "G = 2^{n-2} (J_n + I_n)\n",
    "$$.\n"
   ]
  },
  {
   "cell_type": "code",
   "execution_count": 11,
   "metadata": {},
   "outputs": [],
   "source": [
    "Z_K = 2**(n-2) * np.trace((np.ones((n,n)) + np.eye(n)) @ K)\n",
    "def mu_K(K, Y):\n",
    "    return np.trace(Y.T @ K @ Y) / Z_K"
   ]
  },
  {
   "cell_type": "code",
   "execution_count": 22,
   "metadata": {},
   "outputs": [
    {
     "name": "stderr",
     "output_type": "stream",
     "text": [
      "100%|██████████| 10000/10000 [00:07<00:00, 1339.74it/s]\n"
     ]
    }
   ],
   "source": [
    "# Please note: Enumerating all 2^n (with n=300) possible vectors is not feasible in practice.\n",
    "# Below is a simple illustration of the Alias Method setup for a small discrete distribution.\n",
    "\n",
    "def build_alias_table(probabilities):\n",
    "    \"\"\"\n",
    "    Build alias table for a given list of probabilities.\n",
    "    \"\"\"\n",
    "    n = len(probabilities)\n",
    "    alias = [0]*n\n",
    "    prob = [p*n for p in probabilities]\n",
    "    small, large = [], []\n",
    "\n",
    "    for i, p in enumerate(prob):\n",
    "        if p < 1.0:\n",
    "            small.append(i)\n",
    "        else:\n",
    "            large.append(i)\n",
    "\n",
    "    while small and large:\n",
    "        s = small.pop()\n",
    "        g = large.pop()\n",
    "        alias[s] = g\n",
    "        prob[g] = (prob[g] + prob[s]) - 1.0\n",
    "        if prob[g] < 1.0:\n",
    "            small.append(g)\n",
    "        else:\n",
    "            large.append(g)\n",
    "\n",
    "    return prob, alias\n",
    "\n",
    "def alias_draw(prob, alias):\n",
    "    \"\"\"\n",
    "    Draw one sample from the alias table.\n",
    "    \"\"\"\n",
    "    n = len(prob)\n",
    "    i = np.random.randint(n)\n",
    "    return i if np.random.rand() < prob[i] else alias[i]\n",
    "\n",
    "def sample_alias_muK(K, Z_K, num_draws=1):\n",
    "    \"\"\"\n",
    "    Example: For small n, if we had probabilities p(Y)=mu_K(K,Y) over all Y,\n",
    "    we could build an alias table and sample. Not feasible for n=300 in practice.\n",
    "    \"\"\"\n",
    "    # This is just a placeholder showing where you'd compute all p(Y).\n",
    "    # Actual enumeration for n=300 is not practical.\n",
    "    example_probs = [0.5, 0.5]  # Dummy example\n",
    "    prob, alias = build_alias_table(example_probs)\n",
    "\n",
    "    samples_alias = []\n",
    "    for _ in range(num_draws):\n",
    "        index = alias_draw(prob, alias)\n",
    "        # Convert index to some Y here in a small example\n",
    "        samples_alias.append(index)\n",
    "\n",
    "    return samples_alias"
   ]
  },
  {
   "cell_type": "code",
   "execution_count": 23,
   "metadata": {},
   "outputs": [
    {
     "data": {
      "text/plain": [
       "array([], dtype=float64)"
      ]
     },
     "execution_count": 23,
     "metadata": {},
     "output_type": "execute_result"
    }
   ],
   "source": [
    "samples"
   ]
  },
  {
   "cell_type": "code",
   "execution_count": 18,
   "metadata": {},
   "outputs": [
    {
     "name": "stderr",
     "output_type": "stream",
     "text": [
      "  1%|          | 58476/10000000 [00:04<12:19, 13447.73it/s]\n"
     ]
    },
    {
     "ename": "KeyboardInterrupt",
     "evalue": "",
     "output_type": "error",
     "traceback": [
      "\u001b[0;31m---------------------------------------------------------------------------\u001b[0m",
      "\u001b[0;31mKeyboardInterrupt\u001b[0m                         Traceback (most recent call last)",
      "Cell \u001b[0;32mIn[18], line 7\u001b[0m\n\u001b[1;32m      5\u001b[0m \u001b[38;5;28;01mfor\u001b[39;00m _ \u001b[38;5;129;01min\u001b[39;00m trange(num_samples):\n\u001b[1;32m      6\u001b[0m     Y \u001b[38;5;241m=\u001b[39m sample_unif()\n\u001b[0;32m----> 7\u001b[0m     \u001b[38;5;28;01mif\u001b[39;00m np\u001b[38;5;241m.\u001b[39mrandom\u001b[38;5;241m.\u001b[39mrand() \u001b[38;5;241m<\u001b[39m mu_K(K, Y):\n\u001b[1;32m      8\u001b[0m         samples\u001b[38;5;241m.\u001b[39mappend(Y)\n\u001b[1;32m     10\u001b[0m samples \u001b[38;5;241m=\u001b[39m np\u001b[38;5;241m.\u001b[39marray(samples)\n",
      "Cell \u001b[0;32mIn[11], line 3\u001b[0m, in \u001b[0;36mmu_K\u001b[0;34m(K, Y)\u001b[0m\n\u001b[1;32m      2\u001b[0m \u001b[38;5;28;01mdef\u001b[39;00m \u001b[38;5;21mmu_K\u001b[39m(K, Y):\n\u001b[0;32m----> 3\u001b[0m     \u001b[38;5;28;01mreturn\u001b[39;00m np\u001b[38;5;241m.\u001b[39mtrace(Y\u001b[38;5;241m.\u001b[39mT \u001b[38;5;241m@\u001b[39m K \u001b[38;5;241m@\u001b[39m Y) \u001b[38;5;241m/\u001b[39m Z_K\n",
      "File \u001b[0;32m~/miniconda3/lib/python3.12/site-packages/numpy/core/fromnumeric.py:1695\u001b[0m, in \u001b[0;36m_trace_dispatcher\u001b[0;34m(a, offset, axis1, axis2, dtype, out)\u001b[0m\n\u001b[1;32m   1691\u001b[0m     \u001b[38;5;28;01melse\u001b[39;00m:\n\u001b[1;32m   1692\u001b[0m         \u001b[38;5;28;01mreturn\u001b[39;00m asanyarray(a)\u001b[38;5;241m.\u001b[39mdiagonal(offset\u001b[38;5;241m=\u001b[39moffset, axis1\u001b[38;5;241m=\u001b[39maxis1, axis2\u001b[38;5;241m=\u001b[39maxis2)\n\u001b[0;32m-> 1695\u001b[0m \u001b[38;5;28;01mdef\u001b[39;00m \u001b[38;5;21m_trace_dispatcher\u001b[39m(\n\u001b[1;32m   1696\u001b[0m         a, offset\u001b[38;5;241m=\u001b[39m\u001b[38;5;28;01mNone\u001b[39;00m, axis1\u001b[38;5;241m=\u001b[39m\u001b[38;5;28;01mNone\u001b[39;00m, axis2\u001b[38;5;241m=\u001b[39m\u001b[38;5;28;01mNone\u001b[39;00m, dtype\u001b[38;5;241m=\u001b[39m\u001b[38;5;28;01mNone\u001b[39;00m, out\u001b[38;5;241m=\u001b[39m\u001b[38;5;28;01mNone\u001b[39;00m):\n\u001b[1;32m   1697\u001b[0m     \u001b[38;5;28;01mreturn\u001b[39;00m (a, out)\n\u001b[1;32m   1700\u001b[0m \u001b[38;5;129m@array_function_dispatch\u001b[39m(_trace_dispatcher)\n\u001b[1;32m   1701\u001b[0m \u001b[38;5;28;01mdef\u001b[39;00m \u001b[38;5;21mtrace\u001b[39m(a, offset\u001b[38;5;241m=\u001b[39m\u001b[38;5;241m0\u001b[39m, axis1\u001b[38;5;241m=\u001b[39m\u001b[38;5;241m0\u001b[39m, axis2\u001b[38;5;241m=\u001b[39m\u001b[38;5;241m1\u001b[39m, dtype\u001b[38;5;241m=\u001b[39m\u001b[38;5;28;01mNone\u001b[39;00m, out\u001b[38;5;241m=\u001b[39m\u001b[38;5;28;01mNone\u001b[39;00m):\n",
      "\u001b[0;31mKeyboardInterrupt\u001b[0m: "
     ]
    }
   ],
   "source": [
    "mu_K(K, sample_unif())\n",
    "\n",
    "samples = []\n",
    "num_samples = 10000000\n",
    "for _ in trange(num_samples):\n",
    "    Y = sample_unif()\n",
    "    if np.random.rand() < mu_K(K, Y):\n",
    "        samples.append(Y)\n",
    "\n",
    "samples = np.array(samples)"
   ]
  },
  {
   "cell_type": "code",
   "execution_count": 19,
   "metadata": {},
   "outputs": [
    {
     "data": {
      "text/plain": [
       "[]"
      ]
     },
     "execution_count": 19,
     "metadata": {},
     "output_type": "execute_result"
    }
   ],
   "source": [
    "samples"
   ]
  }
 ],
 "metadata": {
  "kernelspec": {
   "display_name": "base",
   "language": "python",
   "name": "python3"
  },
  "language_info": {
   "codemirror_mode": {
    "name": "ipython",
    "version": 3
   },
   "file_extension": ".py",
   "mimetype": "text/x-python",
   "name": "python",
   "nbconvert_exporter": "python",
   "pygments_lexer": "ipython3",
   "version": "3.12.7"
  }
 },
 "nbformat": 4,
 "nbformat_minor": 2
}
