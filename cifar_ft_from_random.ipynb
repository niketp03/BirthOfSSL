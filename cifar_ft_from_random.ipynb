{
 "cells": [
  {
   "cell_type": "code",
   "execution_count": 1,
   "id": "01eaf6b4",
   "metadata": {},
   "outputs": [
    {
     "name": "stdout",
     "output_type": "stream",
     "text": [
      "Downloading https://www.cs.toronto.edu/~kriz/cifar-10-python.tar.gz to ./data/cifar-10-python.tar.gz\n"
     ]
    },
    {
     "name": "stderr",
     "output_type": "stream",
     "text": [
      "100%|██████████| 170M/170M [00:02<00:00, 71.2MB/s] \n"
     ]
    },
    {
     "name": "stdout",
     "output_type": "stream",
     "text": [
      "Extracting ./data/cifar-10-python.tar.gz to ./data\n",
      "Files already downloaded and verified\n"
     ]
    }
   ],
   "source": [
    "import torch\n",
    "from torchvision import transforms\n",
    "\n",
    "import torchvision.datasets as datasets\n",
    "# Using CIFAR-10 dataset\n",
    "from torchvision.datasets import CIFAR10\n",
    "from torch.utils.data import DataLoader\n",
    "\n",
    "# Define the transformations\n",
    "transform = transforms.Compose([\n",
    "    transforms.ToTensor(),\n",
    "    transforms.Normalize((0.5, 0.5, 0.5), (0.5, 0.5, 0.5)),\n",
    "])\n",
    "# Load the CIFAR-10 dataset\n",
    "train_dataset = CIFAR10(root='./data', train=True, download=True, transform=transform)\n",
    "test_dataset = CIFAR10(root='./data', train=False, download=True, transform=transform)\n",
    "\n",
    "# Create data loaders\n",
    "train_loader = DataLoader(train_dataset, batch_size=64, shuffle=True)\n",
    "test_loader = DataLoader(test_dataset, batch_size=64, shuffle=False)"
   ]
  },
  {
   "cell_type": "code",
   "execution_count": 24,
   "id": "d3c3c535",
   "metadata": {},
   "outputs": [
    {
     "name": "stderr",
     "output_type": "stream",
     "text": [
      "/opt/anaconda3/lib/python3.12/site-packages/torchvision/models/_utils.py:208: UserWarning: The parameter 'pretrained' is deprecated since 0.13 and may be removed in the future, please use 'weights' instead.\n",
      "  warnings.warn(\n",
      "/opt/anaconda3/lib/python3.12/site-packages/torchvision/models/_utils.py:223: UserWarning: Arguments other than a weight enum or `None` for 'weights' are deprecated since 0.13 and may be removed in the future. The current behavior is equivalent to passing `weights=ResNet18_Weights.IMAGENET1K_V1`. You can also use `weights=ResNet18_Weights.DEFAULT` to get the most up-to-date weights.\n",
      "  warnings.warn(msg)\n",
      "/opt/anaconda3/lib/python3.12/site-packages/torchvision/models/_utils.py:223: UserWarning: Arguments other than a weight enum or `None` for 'weights' are deprecated since 0.13 and may be removed in the future. The current behavior is equivalent to passing `weights=None`.\n",
      "  warnings.warn(msg)\n"
     ]
    }
   ],
   "source": [
    "from torchvision import models\n",
    "\n",
    "resnet_pretrained = models.resnet18(pretrained=True)\n",
    "resnet_random = models.resnet18(pretrained=False)"
   ]
  },
  {
   "cell_type": "code",
   "execution_count": 3,
   "id": "a148dbe6",
   "metadata": {},
   "outputs": [],
   "source": [
    "def compute_expectation_variance(K, M, T=1.0):\n",
    "    if K.shape != M.shape:\n",
    "        raise ValueError(\"K and M must have the same shape.\")\n",
    "\n",
    "    sigma = torch.sigmoid(K / T)              # σ(K_{ij}/T)\n",
    "    expectation = (M * sigma).sum()           # Σ M σ\n",
    "    variance = ((M**2) * sigma * (1 - sigma)).sum()  # Σ M² σ(1−σ)\n",
    "\n",
    "    return expectation, variance  "
   ]
  },
  {
   "cell_type": "code",
   "execution_count": null,
   "id": "4e49450a",
   "metadata": {},
   "outputs": [],
   "source": [
    "def linear_probe_accuracy(model, n_epoch = 3):\n",
    "    model.eval()\n",
    "    \n",
    "    linear = torch.nn.Linear(1000, 10).cuda()\n",
    "    \n",
    "    # Define loss function and optimizer\n",
    "    criterion = torch.nn.CrossEntropyLoss()\n",
    "    optimizer = torch.optim.Adam(linear.parameters(), lr=0.001)\n",
    "    \n",
    "    # Training phase\n",
    "    model.cuda()\n",
    "    model.eval()\n",
    "    for epoch in range(n_epoch):  # Train for 5 epochs\n",
    "        running_loss = 0.0\n",
    "        for images, labels in test_loader:\n",
    "            # Resize images to fit the model\n",
    "            images = torch.nn.functional.interpolate(images, size=(224, 224), mode='bilinear', align_corners=False)\n",
    "            # alernatively, you can use the following line to resize images\n",
    "            images, labels = images.cuda(), labels.cuda() if torch.cuda.is_available() else (images, labels)\n",
    "            \n",
    "            # Zero the parameter gradients\n",
    "            optimizer.zero_grad()\n",
    "            \n",
    "            # Forward + backward + optimize\n",
    "            outputs = linear(model(images))\n",
    "            loss = criterion(outputs, labels)\n",
    "            loss.backward()\n",
    "            optimizer.step()\n",
    "            \n",
    "            running_loss += loss.item()\n",
    "        \n",
    "        print(f'Linear Probe Epoch {epoch+1}, Loss: {running_loss/len(test_loader):.4f}')\n",
    "    \n",
    "    # Evaluation phase\n",
    "    model.eval()\n",
    "    correct = 0\n",
    "    total = 0\n",
    "    with torch.no_grad():\n",
    "        for images, labels in test_loader:\n",
    "            # Resize images to fit the model\n",
    "            images = torch.nn.functional.interpolate(images, size=(224, 224), mode='bilinear', align_corners=False)\n",
    "            images, labels = images.cuda(), labels.cuda() if torch.cuda.is_available() else (images, labels)\n",
    "            \n",
    "            outputs = linear(model(images))\n",
    "            _, predicted = torch.max(outputs.data, 1)\n",
    "            total += labels.size(0)\n",
    "            correct += (predicted == labels).sum().item()\n",
    "    \n",
    "    accuracy = 100 * correct / total\n",
    "    print(f'Accuracy on test set: {accuracy:.2f}%')\n",
    "    \n",
    "    return accuracy"
   ]
  },
  {
   "cell_type": "code",
   "execution_count": 9,
   "id": "29ce4e12",
   "metadata": {},
   "outputs": [
    {
     "name": "stdout",
     "output_type": "stream",
     "text": [
      "Epoch 1, Loss: 0.9260\n",
      "Epoch 2, Loss: 0.7065\n",
      "Epoch 3, Loss: 0.6724\n",
      "Accuracy on test set: 78.96%\n"
     ]
    },
    {
     "data": {
      "text/plain": [
       "78.96"
      ]
     },
     "execution_count": 9,
     "metadata": {},
     "output_type": "execute_result"
    }
   ],
   "source": [
    "linear_probe_accuracy(resnet_pretrained)"
   ]
  },
  {
   "cell_type": "code",
   "execution_count": 10,
   "id": "54ea1bce",
   "metadata": {},
   "outputs": [
    {
     "name": "stdout",
     "output_type": "stream",
     "text": [
      "Epoch 1, Loss: 2.1384\n",
      "Epoch 2, Loss: 1.9875\n",
      "Epoch 3, Loss: 1.9263\n",
      "Accuracy on test set: 32.93%\n"
     ]
    },
    {
     "data": {
      "text/plain": [
       "32.93"
      ]
     },
     "execution_count": 10,
     "metadata": {},
     "output_type": "execute_result"
    }
   ],
   "source": [
    "linear_probe_accuracy(resnet_random)"
   ]
  },
  {
   "cell_type": "code",
   "execution_count": 25,
   "id": "4b617baf",
   "metadata": {},
   "outputs": [
    {
     "name": "stdout",
     "output_type": "stream",
     "text": [
      "Epoch 1, Loss: -440.0636, Expectation: 1839.2235, Variance: 479.5482\n",
      "Linear Probe Epoch 1, Loss: 2.0240\n",
      "Accuracy on test set: 35.69%\n",
      "Epoch 2, Loss: -444.1681, Expectation: 1812.7230, Variance: 462.1934\n",
      "Epoch 3, Loss: -445.2079, Expectation: 1808.6774, Variance: 459.1308\n",
      "Epoch 4, Loss: -445.7682, Expectation: 1806.2496, Variance: 457.3566\n",
      "Epoch 5, Loss: -446.3699, Expectation: 1806.2420, Variance: 456.7511\n",
      "Epoch 6, Loss: -446.7475, Expectation: 1805.4800, Variance: 455.9925\n",
      "Linear Probe Epoch 1, Loss: 1.4958\n",
      "Accuracy on test set: 60.38%\n",
      "Epoch 7, Loss: -447.0115, Expectation: 1804.9412, Variance: 455.4591\n",
      "Epoch 8, Loss: -447.1502, Expectation: 1804.6099, Variance: 455.1547\n",
      "Epoch 9, Loss: -447.3201, Expectation: 1804.3300, Variance: 454.8449\n",
      "Epoch 10, Loss: -447.4683, Expectation: 1804.1418, Variance: 454.6026\n",
      "Epoch 11, Loss: -447.5839, Expectation: 1803.7309, Variance: 454.2816\n",
      "Linear Probe Epoch 1, Loss: 1.3909\n",
      "Accuracy on test set: 66.16%\n",
      "Epoch 12, Loss: -447.6556, Expectation: 1803.4113, Variance: 454.0501\n",
      "Epoch 13, Loss: -447.7506, Expectation: 1803.3250, Variance: 453.9119\n",
      "Epoch 14, Loss: -447.8027, Expectation: 1803.5026, Variance: 453.9486\n",
      "Epoch 15, Loss: -448.0091, Expectation: 1803.6004, Variance: 453.7911\n",
      "Epoch 16, Loss: -448.0603, Expectation: 1803.3266, Variance: 453.6030\n",
      "Linear Probe Epoch 1, Loss: 1.3320\n",
      "Accuracy on test set: 70.29%\n",
      "Epoch 17, Loss: -448.1037, Expectation: 1802.9820, Variance: 453.3873\n",
      "Epoch 18, Loss: -448.2394, Expectation: 1803.0605, Variance: 453.2909\n",
      "Epoch 19, Loss: -448.2526, Expectation: 1803.0310, Variance: 453.2629\n",
      "Epoch 20, Loss: -448.3368, Expectation: 1803.0146, Variance: 453.1705\n"
     ]
    }
   ],
   "source": [
    "beta = .5\n",
    "T = 1\n",
    "\n",
    "n_epoch = 20\n",
    "\n",
    "resnet_random.train()\n",
    "resnet_pretrained.eval()\n",
    "\n",
    "optimizer = torch.optim.Adam(resnet_random.parameters(), lr=0.001)\n",
    "\n",
    "resnet_random.cuda()\n",
    "resnet_pretrained.cuda()\n",
    "\n",
    "for epoch in range(n_epoch):  \n",
    "    running_loss = 0.0\n",
    "    running_exp = 0.0\n",
    "    running_var = 0.0\n",
    "    n = 0\n",
    "\n",
    "    for images, labels in train_loader:\n",
    "        images = torch.nn.functional.interpolate(images, size=(224, 224), mode='bilinear', align_corners=False)\n",
    "        images = images.cuda()\n",
    "\n",
    "        with torch.no_grad():\n",
    "            outputs = resnet_pretrained(images)\n",
    "\n",
    "            norm_outputs = outputs / outputs.norm(dim=1, keepdim=True)\n",
    "            K = norm_outputs @ norm_outputs.T\n",
    "            \n",
    "        outputs = resnet_random(images)\n",
    "\n",
    "        norm_outputs = outputs / outputs.norm(dim=1, keepdim=True)\n",
    "        M = norm_outputs @ norm_outputs.T\n",
    "\n",
    "        exp, var = compute_expectation_variance(K, M, T)\n",
    "\n",
    "        loss = var - beta * exp\n",
    "\n",
    "        optimizer.zero_grad()\n",
    "        loss.backward()\n",
    "        optimizer.step()\n",
    "        \n",
    "        # Print statistics  \n",
    "\n",
    "        running_loss += loss.item()\n",
    "        running_exp += exp.item()\n",
    "        running_var += var.item()\n",
    "\n",
    "        n += 1\n",
    "\n",
    "    print(f'Epoch {epoch+1}, Loss: {running_loss/n:.4f}, Expectation: {running_exp/n:.4f}, Variance: {running_var/n:.4f}')\n",
    "    if epoch % 5 == 0:\n",
    "        resnet_random.eval()\n",
    "        linear_probe_accuracy(resnet_random, n_epoch=1)\n",
    "        resnet_random.train()"
   ]
  }
 ],
 "metadata": {
  "kernelspec": {
   "display_name": "base",
   "language": "python",
   "name": "python3"
  },
  "language_info": {
   "codemirror_mode": {
    "name": "ipython",
    "version": 3
   },
   "file_extension": ".py",
   "mimetype": "text/x-python",
   "name": "python",
   "nbconvert_exporter": "python",
   "pygments_lexer": "ipython3",
   "version": "3.12.7"
  }
 },
 "nbformat": 4,
 "nbformat_minor": 5
}
